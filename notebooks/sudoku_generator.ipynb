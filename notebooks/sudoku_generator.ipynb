{
 "cells": [
  {
   "cell_type": "markdown",
   "id": "409b6e1c",
   "metadata": {},
   "source": [
    "# DEVELOPING THE SUDOKU GENERATOR"
   ]
  },
  {
   "cell_type": "markdown",
   "id": "78232c07",
   "metadata": {
    "jp-MarkdownHeadingCollapsed": true
   },
   "source": [
    "## PREPARING THE DEVELOPMENT ENVIRONMENT"
   ]
  },
  {
   "cell_type": "markdown",
   "id": "b0bd90e0-9932-49d4-a18a-eee8e584969f",
   "metadata": {},
   "source": [
    "Including path to previous directory in built-in variable `sys.path`, allowing access to the `sudoku` package:"
   ]
  },
  {
   "cell_type": "code",
   "execution_count": 1,
   "id": "0f341353-a7d3-4aa6-9d9b-2b6bb7d101cc",
   "metadata": {},
   "outputs": [],
   "source": [
    "import sys\n",
    "\n",
    "sys.path.append('../')"
   ]
  },
  {
   "cell_type": "markdown",
   "id": "68ed1b4f",
   "metadata": {},
   "source": [
    "Importing the libraries and the formulation of the problem:"
   ]
  },
  {
   "cell_type": "code",
   "execution_count": 2,
   "id": "49407ef1",
   "metadata": {},
   "outputs": [
    {
     "name": "stdout",
     "output_type": "stream",
     "text": [
      "pygame 2.5.2 (SDL 2.28.3, Python 3.11.4)\n",
      "Hello from the pygame community. https://www.pygame.org/contribute.html\n"
     ]
    }
   ],
   "source": [
    "import numpy as np\n",
    "from sudoku.solvers import solver_exhaustive\n",
    "from sudoku.utils import N, STEP, flatten_position, \\\n",
    "                         available_nums, objective_grid"
   ]
  },
  {
   "cell_type": "markdown",
   "id": "86664b0e",
   "metadata": {
    "jp-MarkdownHeadingCollapsed": true
   },
   "source": [
    "## GENERATOR"
   ]
  },
  {
   "cell_type": "markdown",
   "id": "1c2d2a5b",
   "metadata": {},
   "source": [
    "Fills the grid through the search strategy with backtracking and clears positions checking if the sudoku remains with a unique solution:"
   ]
  },
  {
   "cell_type": "code",
   "execution_count": 3,
   "id": "facf2c0f",
   "metadata": {},
   "outputs": [],
   "source": [
    "def sudoku_generator(clues=41):\n",
    "    grid = np.zeros((N, N), dtype='int8')\n",
    "    acts = [0 for _ in range(N**2)]\n",
    "\n",
    "    s = 0\n",
    "    while not objective_grid(grid):\n",
    "        x, y = flatten_position(s)\n",
    "        nums = available_nums(grid, x, y)\n",
    "\n",
    "        if nums:\n",
    "            rmve = np.random.randint(len(nums))\n",
    "            num  = nums.pop(rmve)\n",
    "\n",
    "            acts[s] = nums\n",
    "        else:\n",
    "            s -= 1\n",
    "\n",
    "            while not acts[s]:\n",
    "                x, y = flatten_position(s)\n",
    "                grid[y, x] = 0\n",
    "                s -= 1\n",
    "\n",
    "            x, y = flatten_position(s)\n",
    "            rmve = np.random.randint(len(acts[s]))\n",
    "            num  = acts[s].pop(rmve)\n",
    "\n",
    "        grid[y, x] = num\n",
    "        s += 1\n",
    "\n",
    "    positions = [(y, x)\n",
    "                 for y in range(N)\n",
    "                 for x in range(N)]\n",
    "\n",
    "    while np.count_nonzero(grid) > clues:\n",
    "        idx = np.random.randint(len(positions))\n",
    "        pos = positions.pop(idx)        \n",
    "\n",
    "        v = grid[pos]\n",
    "\n",
    "        grid[pos] = 0\n",
    "        if not np.all(solver_exhaustive(grid)):\n",
    "            positions.append(pos)\n",
    "            grid[pos] = v\n",
    "\n",
    "    return grid"
   ]
  },
  {
   "cell_type": "markdown",
   "id": "7653da70",
   "metadata": {},
   "source": [
    "Testing the sudoku generator:"
   ]
  },
  {
   "cell_type": "code",
   "execution_count": 4,
   "id": "c94c9115",
   "metadata": {},
   "outputs": [
    {
     "name": "stdout",
     "output_type": "stream",
     "text": [
      "Instance created with 41 clues =\n",
      "[[6 4 7 0 5 3 8 0 0]\n",
      " [0 0 8 1 4 9 6 0 7]\n",
      " [9 0 0 0 0 0 4 3 2]\n",
      " [0 0 0 0 7 0 0 8 6]\n",
      " [0 6 0 9 1 8 7 0 0]\n",
      " [0 0 0 0 3 0 5 0 1]\n",
      " [7 8 0 0 6 0 0 4 0]\n",
      " [0 3 0 0 9 5 0 0 8]\n",
      " [0 5 0 8 2 0 9 7 3]]\n",
      "\n",
      "Instance resolved =\n",
      "[[6 4 7 2 5 3 8 1 9]\n",
      " [3 2 8 1 4 9 6 5 7]\n",
      " [9 1 5 6 8 7 4 3 2]\n",
      " [4 9 1 5 7 2 3 8 6]\n",
      " [5 6 3 9 1 8 7 2 4]\n",
      " [8 7 2 4 3 6 5 9 1]\n",
      " [7 8 9 3 6 1 2 4 5]\n",
      " [2 3 4 7 9 5 1 6 8]\n",
      " [1 5 6 8 2 4 9 7 3]]\n"
     ]
    }
   ],
   "source": [
    "sudoku = sudoku_generator()\n",
    "\n",
    "print(f'Instance created with {np.count_nonzero(sudoku)} clues =')\n",
    "print(sudoku)\n",
    "\n",
    "print()\n",
    "\n",
    "print('Instance resolved =')\n",
    "print(solver_exhaustive(sudoku))"
   ]
  },
  {
   "cell_type": "code",
   "execution_count": 5,
   "id": "c25128bb",
   "metadata": {},
   "outputs": [
    {
     "name": "stdout",
     "output_type": "stream",
     "text": [
      "Instance created with 41 clues =\n",
      "[[0 9 0 6 4 0 0 0 1]\n",
      " [1 2 0 0 0 0 0 9 0]\n",
      " [0 5 0 0 8 1 0 2 3]\n",
      " [0 7 1 4 0 0 9 3 8]\n",
      " [3 0 5 0 9 0 0 0 7]\n",
      " [0 0 0 0 3 0 0 6 0]\n",
      " [0 1 7 0 2 0 3 0 6]\n",
      " [5 0 2 7 6 0 1 0 9]\n",
      " [8 0 6 0 1 9 5 0 2]]\n",
      "\n",
      "Instance resolved =\n",
      "[[7 9 3 6 4 2 8 5 1]\n",
      " [1 2 8 5 7 3 6 9 4]\n",
      " [6 5 4 9 8 1 7 2 3]\n",
      " [2 7 1 4 5 6 9 3 8]\n",
      " [3 6 5 2 9 8 4 1 7]\n",
      " [4 8 9 1 3 7 2 6 5]\n",
      " [9 1 7 8 2 5 3 4 6]\n",
      " [5 3 2 7 6 4 1 8 9]\n",
      " [8 4 6 3 1 9 5 7 2]]\n"
     ]
    }
   ],
   "source": [
    "sudoku = sudoku_generator()\n",
    "\n",
    "print(f'Instance created with {np.count_nonzero(sudoku)} clues =')\n",
    "print(sudoku)\n",
    "\n",
    "print()\n",
    "\n",
    "print('Instance resolved =')\n",
    "print(solver_exhaustive(sudoku))"
   ]
  },
  {
   "cell_type": "code",
   "execution_count": 6,
   "id": "99476710",
   "metadata": {},
   "outputs": [
    {
     "name": "stdout",
     "output_type": "stream",
     "text": [
      "Instance created with 41 clues =\n",
      "[[9 0 5 0 0 8 0 7 0]\n",
      " [7 3 8 9 2 0 1 0 5]\n",
      " [0 0 4 0 5 0 8 2 9]\n",
      " [0 0 9 6 3 0 0 8 0]\n",
      " [0 0 0 5 7 4 0 0 1]\n",
      " [0 1 0 2 0 0 0 3 7]\n",
      " [2 0 3 8 0 0 7 1 0]\n",
      " [0 0 0 4 6 7 0 0 0]\n",
      " [0 0 0 3 1 2 4 5 0]]\n",
      "\n",
      "Instance resolved =\n",
      "[[9 2 5 1 4 8 6 7 3]\n",
      " [7 3 8 9 2 6 1 4 5]\n",
      " [1 6 4 7 5 3 8 2 9]\n",
      " [5 7 9 6 3 1 2 8 4]\n",
      " [3 8 2 5 7 4 9 6 1]\n",
      " [4 1 6 2 8 9 5 3 7]\n",
      " [2 4 3 8 9 5 7 1 6]\n",
      " [8 5 1 4 6 7 3 9 2]\n",
      " [6 9 7 3 1 2 4 5 8]]\n"
     ]
    }
   ],
   "source": [
    "sudoku = sudoku_generator()\n",
    "\n",
    "print(f'Instance created with {np.count_nonzero(sudoku)} clues =')\n",
    "print(sudoku)\n",
    "\n",
    "print()\n",
    "\n",
    "print('Instance resolved =')\n",
    "print(solver_exhaustive(sudoku))"
   ]
  }
 ],
 "metadata": {
  "kernelspec": {
   "display_name": "Python 3 (ipykernel)",
   "language": "python",
   "name": "python3"
  },
  "language_info": {
   "codemirror_mode": {
    "name": "ipython",
    "version": 3
   },
   "file_extension": ".py",
   "mimetype": "text/x-python",
   "name": "python",
   "nbconvert_exporter": "python",
   "pygments_lexer": "ipython3",
   "version": "3.11.4"
  }
 },
 "nbformat": 4,
 "nbformat_minor": 5
}
