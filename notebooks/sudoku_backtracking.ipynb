{
 "cells": [
  {
   "cell_type": "markdown",
   "id": "409b6e1c",
   "metadata": {},
   "source": [
    "# SOLVING SUDOKU WITH BRUTE FORCE"
   ]
  },
  {
   "cell_type": "markdown",
   "id": "78232c07",
   "metadata": {
    "jp-MarkdownHeadingCollapsed": true
   },
   "source": [
    "## PREPARING THE DEVELOPMENT ENVIRONMENT"
   ]
  },
  {
   "cell_type": "markdown",
   "id": "3a4685fc-4202-4942-8dd3-1dcd628df6c4",
   "metadata": {},
   "source": [
    "Including path to previous directory in built-in variable `sys.path`, allowing access to the `sudoku` package:"
   ]
  },
  {
   "cell_type": "code",
   "execution_count": 1,
   "id": "fbf827fd-6c1c-4b4b-9d3c-3c46781dfbec",
   "metadata": {},
   "outputs": [],
   "source": [
    "import sys\n",
    "\n",
    "sys.path.append('../')"
   ]
  },
  {
   "cell_type": "markdown",
   "id": "68ed1b4f",
   "metadata": {},
   "source": [
    "Importing the libraries and the formulation of the problem:"
   ]
  },
  {
   "cell_type": "code",
   "execution_count": 2,
   "id": "49407ef1",
   "metadata": {},
   "outputs": [
    {
     "name": "stdout",
     "output_type": "stream",
     "text": [
      "pygame 2.5.2 (SDL 2.28.3, Python 3.11.4)\n",
      "Hello from the pygame community. https://www.pygame.org/contribute.html\n"
     ]
    }
   ],
   "source": [
    "import numpy as np\n",
    "from sudoku.utils import objective_grid, \\\n",
    "                         first_available_pos, \\\n",
    "                         available_nums"
   ]
  },
  {
   "cell_type": "markdown",
   "id": "adbcd343",
   "metadata": {
    "jp-MarkdownHeadingCollapsed": true
   },
   "source": [
    "## BACKTRACKING SEARCH"
   ]
  },
  {
   "cell_type": "markdown",
   "id": "d6e9ab48",
   "metadata": {},
   "source": [
    "This search strategy employs a trial-and-error approach, manifesting as a brute force strategy. Upon encountering a configuration where the instance remains unresolved and there are no further valid movement options, the search backtracks until discovering a valid path without revisiting previously explored paths.\n",
    "\n",
    "Obs.: It will serve to verify if a game instance possesses a unique solution, subsequently integrating with the valid game instance generator.\r\n",
    "\r\n",
    "\r\n"
   ]
  },
  {
   "cell_type": "code",
   "execution_count": 3,
   "id": "e5338f7f",
   "metadata": {},
   "outputs": [],
   "source": [
    "def backtracking(sudoku_grid):\n",
    "    grid = sudoku_grid.copy()\n",
    "    step = np.count_nonzero(grid == 0)\n",
    "\n",
    "    moves = [None] * step\n",
    "    actns = [None] * step\n",
    "\n",
    "    size = 0\n",
    "    while not objective_grid(grid):\n",
    "        move = first_available_pos(grid)\n",
    "        nums = available_nums(grid, move[1], move[0])\n",
    "\n",
    "        if nums:\n",
    "            grid[move] = nums.pop()\n",
    "            moves[size] = move\n",
    "            actns[size] = nums\n",
    "            size += 1\n",
    "        else:\n",
    "            size -= 1\n",
    "            \n",
    "            while not actns[size]:   \n",
    "                # The instance has no solution\n",
    "                if size == 0:\n",
    "                    return None\n",
    "\n",
    "                # Undoing each modification to generate the next successor\n",
    "                grid[moves[size]] = 0\n",
    "                size -= 1\n",
    "\n",
    "            move = moves[size]\n",
    "            num  = actns[size].pop()\n",
    "\n",
    "            grid[move] = num\n",
    "            size += 1\n",
    "\n",
    "    return grid"
   ]
  },
  {
   "cell_type": "markdown",
   "id": "7e308773",
   "metadata": {},
   "source": [
    "Testing the solver:"
   ]
  },
  {
   "cell_type": "code",
   "execution_count": 4,
   "id": "c3c65ba6",
   "metadata": {},
   "outputs": [
    {
     "name": "stdout",
     "output_type": "stream",
     "text": [
      "40.8 ms ± 4.11 ms per loop (mean ± std. dev. of 7 runs, 10 loops each)\n"
     ]
    }
   ],
   "source": [
    "%%timeit\n",
    "\n",
    "array = np.array([[5, 3, 0, 0, 7, 0, 0, 0, 0],\n",
    "                  [6, 0, 0, 1, 9, 5, 0, 0, 0],\n",
    "                  [0, 9, 8, 0, 0, 0, 0, 6, 0],\n",
    "                  [8, 0, 0, 0, 6, 0, 0, 0, 3],\n",
    "                  [4, 0, 0, 8, 0, 3, 0, 0, 1],\n",
    "                  [7, 0, 0, 0, 2, 0, 0, 0, 6],\n",
    "                  [0, 6, 0, 0, 0, 0, 2, 8, 0],\n",
    "                  [0, 0, 0, 4, 1, 9, 0, 0, 5],\n",
    "                  [0, 0, 0, 0, 8, 0, 0, 7, 9]])\n",
    "\n",
    "_ = backtracking(array)"
   ]
  },
  {
   "cell_type": "code",
   "execution_count": 5,
   "id": "9c104a5d",
   "metadata": {},
   "outputs": [
    {
     "name": "stdout",
     "output_type": "stream",
     "text": [
      "Backtracking was sufficient to resolve the instance of the problem = True\n",
      "\n",
      "Grid =\n",
      "[[5 3 4 6 7 8 9 1 2]\n",
      " [6 7 2 1 9 5 3 4 8]\n",
      " [1 9 8 3 4 2 5 6 7]\n",
      " [8 5 9 7 6 1 4 2 3]\n",
      " [4 2 6 8 5 3 7 9 1]\n",
      " [7 1 3 9 2 4 8 5 6]\n",
      " [9 6 1 5 3 7 2 8 4]\n",
      " [2 8 7 4 1 9 6 3 5]\n",
      " [3 4 5 2 8 6 1 7 9]]\n"
     ]
    }
   ],
   "source": [
    "array = np.array([[5, 3, 0, 0, 7, 0, 0, 0, 0],\n",
    "                  [6, 0, 0, 1, 9, 5, 0, 0, 0],\n",
    "                  [0, 9, 8, 0, 0, 0, 0, 6, 0],\n",
    "                  [8, 0, 0, 0, 6, 0, 0, 0, 3],\n",
    "                  [4, 0, 0, 8, 0, 3, 0, 0, 1],\n",
    "                  [7, 0, 0, 0, 2, 0, 0, 0, 6],\n",
    "                  [0, 6, 0, 0, 0, 0, 2, 8, 0],\n",
    "                  [0, 0, 0, 4, 1, 9, 0, 0, 5],\n",
    "                  [0, 0, 0, 0, 8, 0, 0, 7, 9]])\n",
    "\n",
    "grid = backtracking(array)\n",
    "\n",
    "print(f'Backtracking was sufficient to resolve the instance of the problem = {objective_grid(grid)}')\n",
    "\n",
    "print()\n",
    "\n",
    "print('Grid =')\n",
    "print(grid)"
   ]
  },
  {
   "cell_type": "code",
   "execution_count": 6,
   "id": "dfbd5c7a-c0f5-49db-8d7b-eb2d759f7568",
   "metadata": {},
   "outputs": [
    {
     "name": "stdout",
     "output_type": "stream",
     "text": [
      "18 s ± 546 ms per loop (mean ± std. dev. of 7 runs, 1 loop each)\n"
     ]
    }
   ],
   "source": [
    "%%timeit\n",
    "\n",
    "grid_inkala = np.array([[0, 0, 5, 3, 0, 0, 0, 0, 0],\n",
    "                        [8, 0, 0, 0, 0, 0, 0, 2, 0],\n",
    "                        [0, 7, 0, 0, 1, 0, 5, 0, 0],\n",
    "                        [4, 0, 0, 0, 0, 5, 3, 0, 0],\n",
    "                        [0, 1, 0, 0, 7, 0, 0, 0, 6],\n",
    "                        [0, 0, 3, 2, 0, 0, 0, 8, 0],\n",
    "                        [0, 6, 0, 5, 0, 0, 0, 0, 9],\n",
    "                        [0, 0, 4, 0, 0, 0, 0, 3, 0],\n",
    "                        [0, 0, 0, 0, 0, 9, 7, 0, 0]], dtype='int8')\n",
    "\n",
    "_ = backtracking(grid_inkala)"
   ]
  },
  {
   "cell_type": "code",
   "execution_count": 7,
   "id": "ab231606",
   "metadata": {},
   "outputs": [
    {
     "name": "stdout",
     "output_type": "stream",
     "text": [
      "Backtracking was sufficient to resolve the instance of the problem = True\n",
      "\n",
      "Grid =\n",
      "[[1 4 5 3 2 7 6 9 8]\n",
      " [8 3 9 6 5 4 1 2 7]\n",
      " [6 7 2 9 1 8 5 4 3]\n",
      " [4 9 6 1 8 5 3 7 2]\n",
      " [2 1 8 4 7 3 9 5 6]\n",
      " [7 5 3 2 9 6 4 8 1]\n",
      " [3 6 7 5 4 2 8 1 9]\n",
      " [9 8 4 7 6 1 2 3 5]\n",
      " [5 2 1 8 3 9 7 6 4]]\n"
     ]
    }
   ],
   "source": [
    "grid_inkala = np.array([[0, 0, 5, 3, 0, 0, 0, 0, 0],\n",
    "                        [8, 0, 0, 0, 0, 0, 0, 2, 0],\n",
    "                        [0, 7, 0, 0, 1, 0, 5, 0, 0],\n",
    "                        [4, 0, 0, 0, 0, 5, 3, 0, 0],\n",
    "                        [0, 1, 0, 0, 7, 0, 0, 0, 6],\n",
    "                        [0, 0, 3, 2, 0, 0, 0, 8, 0],\n",
    "                        [0, 6, 0, 5, 0, 0, 0, 0, 9],\n",
    "                        [0, 0, 4, 0, 0, 0, 0, 3, 0],\n",
    "                        [0, 0, 0, 0, 0, 9, 7, 0, 0]], dtype='int8')\n",
    "\n",
    "grid = backtracking(grid_inkala)\n",
    "\n",
    "print(f'Backtracking was sufficient to resolve the instance of the problem = {objective_grid(grid)}')\n",
    "\n",
    "print()\n",
    "\n",
    "print('Grid =')\n",
    "print(grid)"
   ]
  },
  {
   "cell_type": "markdown",
   "id": "adbd7bb3-4478-4580-b6b5-15ea51d474e6",
   "metadata": {
    "jp-MarkdownHeadingCollapsed": true
   },
   "source": [
    "## EXHAUSTIVE SEARCH"
   ]
  },
  {
   "cell_type": "markdown",
   "id": "cd88fcd8-4a52-4e04-bef9-6cf092aae8d4",
   "metadata": {},
   "source": [
    "To verify the existence of more than one solution:"
   ]
  },
  {
   "cell_type": "code",
   "execution_count": 8,
   "id": "a0e86baa-da07-47e0-8f65-97c41cc4a5cd",
   "metadata": {},
   "outputs": [],
   "source": [
    "def exhaustive_search(sudoku_grid):\n",
    "    grid = sudoku_grid.copy()\n",
    "    step = np.count_nonzero(grid == 0)\n",
    "\n",
    "    sol = None\n",
    "    moves = [None] * step\n",
    "    actns = [None] * step\n",
    "\n",
    "    size = 0\n",
    "    while True:\n",
    "        if objective_grid(grid):\n",
    "            # If no one has been found so far:\n",
    "            #  -> Defines the solution\n",
    "            # Otherwise, there is more than one solution:\n",
    "            #  -> Return None\n",
    "            if not np.all(sol):\n",
    "                sol = grid.copy()\n",
    "            else:\n",
    "                return None\n",
    "\n",
    "        move = first_available_pos(grid)\n",
    "        if move:\n",
    "            nums = available_nums(grid, move[1], move[0])\n",
    "\n",
    "        if move and nums:\n",
    "            grid[move] = nums.pop()\n",
    "            moves[size] = move\n",
    "            actns[size] = nums\n",
    "            size += 1\n",
    "        else:\n",
    "            size -= 1\n",
    "            \n",
    "            while not actns[size]:   \n",
    "                if size == 0:\n",
    "                    return sol\n",
    "\n",
    "                grid[moves[size]] = 0\n",
    "                size -= 1\n",
    "\n",
    "            move = moves[size]\n",
    "            num  = actns[size].pop()\n",
    "\n",
    "            grid[move] = num\n",
    "            size += 1"
   ]
  },
  {
   "cell_type": "markdown",
   "id": "801ffbc2-5ab9-4e0d-a1d3-23e70320d3f3",
   "metadata": {},
   "source": [
    "Testing the algorithm with a single-solution instance:"
   ]
  },
  {
   "cell_type": "code",
   "execution_count": 9,
   "id": "fd653a3c-7d99-435e-b1b3-62a6021cb1ec",
   "metadata": {},
   "outputs": [
    {
     "name": "stdout",
     "output_type": "stream",
     "text": [
      "[[5 3 4 6 7 8 9 1 2]\n",
      " [6 7 2 1 9 5 3 4 8]\n",
      " [1 9 8 3 4 2 5 6 7]\n",
      " [8 5 9 7 6 1 4 2 3]\n",
      " [4 2 6 8 5 3 7 9 1]\n",
      " [7 1 3 9 2 4 8 5 6]\n",
      " [9 6 1 5 3 7 2 8 4]\n",
      " [2 8 7 4 1 9 6 3 5]\n",
      " [3 4 5 2 8 6 1 7 9]]\n"
     ]
    }
   ],
   "source": [
    "single_solution = np.array([[5, 3, 0, 0, 7, 0, 0, 0, 0],\n",
    "                            [6, 0, 0, 1, 9, 5, 0, 0, 0],\n",
    "                            [0, 9, 8, 0, 0, 0, 0, 6, 0],\n",
    "                            [8, 0, 0, 0, 6, 0, 0, 0, 3],\n",
    "                            [4, 0, 0, 8, 0, 3, 0, 0, 1],\n",
    "                            [7, 0, 0, 0, 2, 0, 0, 0, 6],\n",
    "                            [0, 6, 0, 0, 0, 0, 2, 8, 0],\n",
    "                            [0, 0, 0, 4, 1, 9, 0, 0, 5],\n",
    "                            [0, 0, 0, 0, 8, 0, 0, 7, 9]])\n",
    "\n",
    "grid = exhaustive_search(single_solution)\n",
    "print(grid)"
   ]
  },
  {
   "cell_type": "markdown",
   "id": "5905da21-faa9-4892-8b63-5afedd35264f",
   "metadata": {},
   "source": [
    "Testing the algorithm with an instance with more than one solution:"
   ]
  },
  {
   "cell_type": "code",
   "execution_count": 10,
   "id": "03987206-fbe1-44a8-b06a-d0a836942173",
   "metadata": {},
   "outputs": [
    {
     "name": "stdout",
     "output_type": "stream",
     "text": [
      "None\n"
     ]
    }
   ],
   "source": [
    "more_than_one_solution = np.array([[5, 3, 0, 0, 7, 0, 0, 0, 0],\n",
    "                                   [6, 0, 0, 1, 9, 5, 0, 0, 0],\n",
    "                                   [0, 9, 8, 0, 0, 0, 0, 6, 0],\n",
    "                                   [8, 0, 0, 0, 6, 0, 0, 0, 3],\n",
    "                                   [4, 0, 0, 8, 0, 3, 0, 0, 1],\n",
    "                                   [7, 0, 0, 0, 2, 0, 0, 0, 6],\n",
    "                                   [0, 6, 0, 0, 0, 0, 2, 8, 0],\n",
    "                                   [0, 0, 0, 4, 1, 9, 0, 0, 5],\n",
    "                                   [0, 0, 0, 0, 8, 0, 0, 0, 0]])\n",
    "\n",
    "grid = exhaustive_search(more_than_one_solution)\n",
    "print(grid)"
   ]
  },
  {
   "cell_type": "markdown",
   "id": "f311025b-42ae-442e-a383-f33e2229436a",
   "metadata": {},
   "source": [
    "Testing the algorithm with a no-solution instance:"
   ]
  },
  {
   "cell_type": "code",
   "execution_count": 11,
   "id": "c55a60d8-45b1-4731-8366-abfaf474408f",
   "metadata": {},
   "outputs": [
    {
     "name": "stdout",
     "output_type": "stream",
     "text": [
      "None\n"
     ]
    }
   ],
   "source": [
    "no_solution = np.array([[5, 3, 0, 0, 7, 0, 1, 0, 0],\n",
    "                        [6, 0, 0, 1, 9, 5, 0, 0, 0],\n",
    "                        [0, 9, 8, 0, 0, 0, 0, 6, 0],\n",
    "                        [8, 0, 0, 0, 6, 0, 0, 0, 3],\n",
    "                        [4, 0, 0, 8, 0, 3, 0, 0, 1],\n",
    "                        [7, 0, 0, 0, 2, 0, 0, 0, 6],\n",
    "                        [0, 6, 0, 0, 0, 0, 2, 8, 0],\n",
    "                        [0, 0, 0, 4, 1, 9, 0, 0, 5],\n",
    "                        [0, 0, 0, 0, 8, 0, 0, 7, 9]])\n",
    "\n",
    "grid = exhaustive_search(no_solution)\n",
    "print(grid)"
   ]
  }
 ],
 "metadata": {
  "kernelspec": {
   "display_name": "Python 3 (ipykernel)",
   "language": "python",
   "name": "python3"
  },
  "language_info": {
   "codemirror_mode": {
    "name": "ipython",
    "version": 3
   },
   "file_extension": ".py",
   "mimetype": "text/x-python",
   "name": "python",
   "nbconvert_exporter": "python",
   "pygments_lexer": "ipython3",
   "version": "3.11.4"
  }
 },
 "nbformat": 4,
 "nbformat_minor": 5
}
