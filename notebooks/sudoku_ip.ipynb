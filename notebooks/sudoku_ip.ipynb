{
 "cells": [
  {
   "cell_type": "markdown",
   "id": "b3092390",
   "metadata": {},
   "source": [
    "# USE OF OPTIMIZATION TECHNIQUES"
   ]
  },
  {
   "cell_type": "markdown",
   "id": "19087b1e-ba36-4ea8-81b0-c1081706f073",
   "metadata": {
    "jp-MarkdownHeadingCollapsed": true
   },
   "source": [
    "## PREPARING THE DEVELOPMENT ENVIRONMENT"
   ]
  },
  {
   "cell_type": "markdown",
   "id": "8c9bf3e2-9951-4203-ab36-24a1015d6a54",
   "metadata": {},
   "source": [
    "Including path to previous directory in built-in variable `sys.path`, allowing access to the `sudoku` package:"
   ]
  },
  {
   "cell_type": "code",
   "execution_count": 1,
   "id": "8b057d9e",
   "metadata": {},
   "outputs": [],
   "source": [
    "import sys\n",
    "\n",
    "sys.path.append('../')"
   ]
  },
  {
   "cell_type": "markdown",
   "id": "5efd2508",
   "metadata": {},
   "source": [
    "Importing the relevant libraries:"
   ]
  },
  {
   "cell_type": "code",
   "execution_count": 2,
   "id": "6c87acce",
   "metadata": {},
   "outputs": [
    {
     "name": "stdout",
     "output_type": "stream",
     "text": [
      "pygame 2.5.2 (SDL 2.28.3, Python 3.11.4)\n",
      "Hello from the pygame community. https://www.pygame.org/contribute.html\n"
     ]
    }
   ],
   "source": [
    "import numpy as np\n",
    "from itertools import product\n",
    "from mip import Model, MINIMIZE, CBC, BINARY, xsum\n",
    "from sudoku.utils import N, STEP, process_grid, objective_grid"
   ]
  },
  {
   "cell_type": "markdown",
   "id": "a593c040-6324-4422-93e4-ac50d1237fca",
   "metadata": {
    "jp-MarkdownHeadingCollapsed": true
   },
   "source": [
    "## MODELING SUDOKU AS AN INTEGER PROGRAMMING PROBLEM"
   ]
  },
  {
   "cell_type": "markdown",
   "id": "a4e91895",
   "metadata": {},
   "source": [
    "Documentation explaining the model below can be found in the [project repository](https://github.com/filipemedeiross/solving_sudoku_by_search_for_csp):"
   ]
  },
  {
   "cell_type": "code",
   "execution_count": 3,
   "id": "9a3eb39f",
   "metadata": {},
   "outputs": [],
   "source": [
    "def create_model(grid):\n",
    "    model = Model(sense=MINIMIZE, solver_name=CBC)\n",
    "\n",
    "    V = set(range(N))\n",
    "    S = set(range(0, N, STEP))\n",
    "\n",
    "    x = [[[model.add_var(var_type=BINARY, name=f'x_{i}{j}{k}')\n",
    "           for k in range(1, N+1)]\n",
    "           for j in range(N)]\n",
    "           for i in range(N)]\n",
    "\n",
    "    # Game clues must be strictly followed\n",
    "    for i, j, k in grid:\n",
    "        if k:\n",
    "            model += x[i][j][k-1] == 1, f'CLUE_x_{i}{j}{k}'\n",
    "\n",
    "    # All cells must be filled in necessarily once\n",
    "    for i, j in product(V, V):\n",
    "        model += xsum(x[i][j][k] for k in range(N)) == 1, f'FILL_x_{i}{j}'\n",
    "\n",
    "    # AllDiff constraints on rows\n",
    "    for i, k in product(V, V):\n",
    "        model += xsum(x[i][j][k] for j in range(N)) == 1, f'ALLDIFF_row_{i}{k}'\n",
    "\n",
    "    # AllDiff constraints on cols\n",
    "    for j, k in product(V, V):\n",
    "        model += xsum(x[i][j][k] for i in range(N)) == 1, f'ALLDIFF_col_{j}{k}'\n",
    "\n",
    "    # AllDiff constraints on squares\n",
    "    for m, n, k in product(S, S, V):\n",
    "        model += xsum(x[i][j][k]\n",
    "                      for i in range(m, m+STEP)\n",
    "                      for j in range(n, n+STEP)) == 1, f'ALLDIFF_square_{m}{n}{k}'\n",
    "\n",
    "    return model, x, V"
   ]
  },
  {
   "cell_type": "code",
   "execution_count": 4,
   "id": "2cc0f7c8",
   "metadata": {},
   "outputs": [],
   "source": [
    "def solver_ip(grid):\n",
    "    grid  = grid.copy()\n",
    "    entry = process_grid(grid)\n",
    "\n",
    "    model, var, V = create_model(entry)\n",
    "    model.verbose = 0\n",
    "    model.optimize()\n",
    "\n",
    "    for i, j, k in product(V, V, V):\n",
    "        if var[i][j][k].x and not grid[i, j]:\n",
    "            grid[i, j] = k + 1\n",
    "\n",
    "    return grid"
   ]
  },
  {
   "cell_type": "markdown",
   "id": "751d700e",
   "metadata": {},
   "source": [
    "## TESTING THE SOLVER"
   ]
  },
  {
   "cell_type": "markdown",
   "id": "c7abccc7-3097-4e70-a284-422020fc4671",
   "metadata": {},
   "source": [
    "Checking the efficiency of the model:"
   ]
  },
  {
   "cell_type": "code",
   "execution_count": 5,
   "id": "b6730d74-d89d-42f8-89ca-471c093f6c5b",
   "metadata": {},
   "outputs": [
    {
     "name": "stdout",
     "output_type": "stream",
     "text": [
      "1.16 s ± 639 ms per loop (mean ± std. dev. of 7 runs, 1 loop each)\n"
     ]
    }
   ],
   "source": [
    "%%timeit\n",
    "\n",
    "grid = np.array([[0, 0, 5, 3, 0, 0, 0, 0, 0],\n",
    "                 [8, 0, 0, 0, 0, 0, 0, 2, 0],\n",
    "                 [0, 7, 0, 0, 1, 0, 5, 0, 0],\n",
    "                 [4, 0, 0, 0, 0, 5, 3, 0, 0],\n",
    "                 [0, 1, 0, 0, 7, 0, 0, 0, 6],\n",
    "                 [0, 0, 3, 2, 0, 0, 0, 8, 0],\n",
    "                 [0, 6, 0, 5, 0, 0, 0, 0, 9],\n",
    "                 [0, 0, 4, 0, 0, 0, 0, 3, 0],\n",
    "                 [0, 0, 0, 0, 0, 9, 7, 0, 0]], dtype='int8')\n",
    "\n",
    "solver_ip(grid)"
   ]
  },
  {
   "cell_type": "markdown",
   "id": "9d0cacbe-6438-4751-9263-14aa381298d1",
   "metadata": {},
   "source": [
    "Checking if the objective grid was reached:"
   ]
  },
  {
   "cell_type": "code",
   "execution_count": 6,
   "id": "030226af",
   "metadata": {},
   "outputs": [
    {
     "name": "stdout",
     "output_type": "stream",
     "text": [
      "IP was sufficient to resolve the instance of the problem = True\n",
      "\n",
      "Grid = \n",
      "[[1 4 5 3 2 7 6 9 8]\n",
      " [8 3 9 6 5 4 1 2 7]\n",
      " [6 7 2 9 1 8 5 4 3]\n",
      " [4 9 6 1 8 5 3 7 2]\n",
      " [2 1 8 4 7 3 9 5 6]\n",
      " [7 5 3 2 9 6 4 8 1]\n",
      " [3 6 7 5 4 2 8 1 9]\n",
      " [9 8 4 7 6 1 2 3 5]\n",
      " [5 2 1 8 3 9 7 6 4]]\n"
     ]
    }
   ],
   "source": [
    "grid = np.array([[0, 0, 5, 3, 0, 0, 0, 0, 0],\n",
    "                 [8, 0, 0, 0, 0, 0, 0, 2, 0],\n",
    "                 [0, 7, 0, 0, 1, 0, 5, 0, 0],\n",
    "                 [4, 0, 0, 0, 0, 5, 3, 0, 0],\n",
    "                 [0, 1, 0, 0, 7, 0, 0, 0, 6],\n",
    "                 [0, 0, 3, 2, 0, 0, 0, 8, 0],\n",
    "                 [0, 6, 0, 5, 0, 0, 0, 0, 9],\n",
    "                 [0, 0, 4, 0, 0, 0, 0, 3, 0],\n",
    "                 [0, 0, 0, 0, 0, 9, 7, 0, 0]], dtype='int8')\n",
    "\n",
    "goal_grid = solver_ip(grid)\n",
    "\n",
    "print(f'IP was sufficient to resolve the instance of the problem = {objective_grid(goal_grid)}')\n",
    "\n",
    "print()\n",
    "\n",
    "print('Grid = ')\n",
    "print(goal_grid)"
   ]
  }
 ],
 "metadata": {
  "kernelspec": {
   "display_name": "Python 3 (ipykernel)",
   "language": "python",
   "name": "python3"
  },
  "language_info": {
   "codemirror_mode": {
    "name": "ipython",
    "version": 3
   },
   "file_extension": ".py",
   "mimetype": "text/x-python",
   "name": "python",
   "nbconvert_exporter": "python",
   "pygments_lexer": "ipython3",
   "version": "3.11.4"
  }
 },
 "nbformat": 4,
 "nbformat_minor": 5
}
