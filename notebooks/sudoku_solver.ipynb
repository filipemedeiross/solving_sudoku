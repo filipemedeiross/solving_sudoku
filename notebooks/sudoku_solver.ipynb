{
 "cells": [
  {
   "cell_type": "markdown",
   "id": "4e5d7314",
   "metadata": {},
   "source": [
    "# SUDOKU SOLVER"
   ]
  },
  {
   "cell_type": "markdown",
   "id": "3df5d261-ed75-44a9-85bc-4af20286c1e9",
   "metadata": {
    "jp-MarkdownHeadingCollapsed": true
   },
   "source": [
    "## PREPARING THE DEVELOPMENT ENVIRONMENT"
   ]
  },
  {
   "cell_type": "markdown",
   "id": "e786fa08-b4fe-4a99-a647-4a326adef695",
   "metadata": {},
   "source": [
    "Including path to previous directory in built-in variable `sys.path`, allowing access to the `sudoku` package:"
   ]
  },
  {
   "cell_type": "code",
   "execution_count": 1,
   "id": "e0bc903a",
   "metadata": {},
   "outputs": [],
   "source": [
    "import sys\n",
    "\n",
    "sys.path.append('../')"
   ]
  },
  {
   "cell_type": "markdown",
   "id": "d226de1b",
   "metadata": {},
   "source": [
    "Importing the relevant libraries:"
   ]
  },
  {
   "cell_type": "code",
   "execution_count": 2,
   "id": "35e211f6",
   "metadata": {},
   "outputs": [
    {
     "name": "stdout",
     "output_type": "stream",
     "text": [
      "pygame 2.5.2 (SDL 2.28.3, Python 3.11.4)\n",
      "Hello from the pygame community. https://www.pygame.org/contribute.html\n"
     ]
    }
   ],
   "source": [
    "import numpy as np\n",
    "from collections import deque\n",
    "from sudoku.utils import N, STEP, square_loc, objective_grid"
   ]
  },
  {
   "cell_type": "markdown",
   "id": "007a624f",
   "metadata": {
    "jp-MarkdownHeadingCollapsed": true
   },
   "source": [
    "## DEFINING CSP AND AC-3"
   ]
  },
  {
   "cell_type": "markdown",
   "id": "ee5a37cb",
   "metadata": {},
   "source": [
    "Class that defines the specific CSP for sudoku and allows its resolution through a solver:"
   ]
  },
  {
   "cell_type": "code",
   "execution_count": 3,
   "id": "c0f49385",
   "metadata": {},
   "outputs": [],
   "source": [
    "class SudokuCSP:\n",
    "    def __init__(self, grid):\n",
    "        self.domains     = self.generate_domains(grid)\n",
    "        self.neighbors   = self.generate_neighbors()\n",
    "        self.constraints = self.generate_constraints()\n",
    "        self.cuts        = self.generate_cuts()\n",
    "\n",
    "    def ac_3(self):\n",
    "        queue = deque([(xi, xj)\n",
    "                       for xi, xj in self.constraints\n",
    "                       if self.assigned(xj)])\n",
    "\n",
    "        while queue:\n",
    "            xi, xj = queue.popleft()\n",
    "\n",
    "            if self.revise(xi, xj):\n",
    "                if self.assigned(xi):\n",
    "                    queue.extend([(xk, xi)\n",
    "                                  for xk in self.neighbors[xi] - {xj}])\n",
    "                elif self.unfeasible(xi):\n",
    "                    return False\n",
    "\n",
    "        return True\n",
    "\n",
    "    def revise(self, xi, xj):\n",
    "        vj = self.domains[xj][0]\n",
    "\n",
    "        for vi in self.domains[xi]:\n",
    "            if vi == vj:\n",
    "                self.domains[xi].remove(vi)\n",
    "                return True\n",
    "\n",
    "        return False\n",
    "\n",
    "    def generate_domains(self, grid):\n",
    "        return {(y, x) : self.get_domain(grid, y, x)\n",
    "                for y in range(N)\n",
    "                for x in range(N)}\n",
    "\n",
    "    def generate_neighbors(self):\n",
    "        return {pos : self.get_neighbors(*pos)\n",
    "                for pos in self.vars}\n",
    "\n",
    "    def generate_constraints(self):\n",
    "        return [(v, n)\n",
    "                for v in self.vars\n",
    "                for n in self.neighbors[v]]\n",
    "\n",
    "    def generate_cuts(self):\n",
    "        return {v : []\n",
    "                for v in self.vars}\n",
    "\n",
    "    @staticmethod\n",
    "    def get_domain(grid, y, x):\n",
    "        return [grid[y, x]] if grid[y, x] else list(range(1, N+1))\n",
    "\n",
    "    @staticmethod\n",
    "    def get_row(y, x):\n",
    "        return [(y, i)\n",
    "                for i in range(N)\n",
    "                if i != x]\n",
    "\n",
    "    @staticmethod\n",
    "    def get_col(y, x):\n",
    "        return [(j, x)\n",
    "                for j in range(N)\n",
    "                if j != y]\n",
    "\n",
    "    @staticmethod\n",
    "    def get_sqr(y, x):\n",
    "        return [(j, i)\n",
    "                for j in range(*square_loc(y))\n",
    "                for i in range(*square_loc(x))\n",
    "                if j != y and i != x]\n",
    "\n",
    "    def get_neighbors(self, y, x):\n",
    "        return set(self.get_row(y, x) +\n",
    "                   self.get_col(y, x) +\n",
    "                   self.get_sqr(y, x))\n",
    "\n",
    "    def unfeasible(self, xi):\n",
    "        return len(self.domains[xi]) == 0\n",
    "\n",
    "    def assigned(self, xi):\n",
    "        return len(self.domains[xi]) == 1\n",
    "\n",
    "    @property\n",
    "    def vars(self):\n",
    "        return self.domains.keys()\n",
    "\n",
    "    @property\n",
    "    def won(self):\n",
    "        grid = np.zeros((N, N), dtype='int8')\n",
    "\n",
    "        for pos, domain in self.domains.items():\n",
    "            if len(domain) > 1:\n",
    "                return False\n",
    "\n",
    "            grid[pos] = domain[0]\n",
    "        \n",
    "        return objective_grid(grid)"
   ]
  },
  {
   "cell_type": "markdown",
   "id": "7798fa8d",
   "metadata": {},
   "source": [
    "Testing class instantiation and resolution through AC-3 (simpler instances are resolved only by propagating inferences):"
   ]
  },
  {
   "cell_type": "code",
   "execution_count": 4,
   "id": "b5ab71ee-7021-426a-9ffc-6ff140dfac55",
   "metadata": {},
   "outputs": [
    {
     "name": "stdout",
     "output_type": "stream",
     "text": [
      "5.39 ms ± 474 µs per loop (mean ± std. dev. of 7 runs, 100 loops each)\n"
     ]
    }
   ],
   "source": [
    "%%timeit\n",
    "\n",
    "grid = np.array([[1, 5, 7, 4, 0, 8, 9, 3, 0],\n",
    "                 [8, 0, 3, 0, 0, 5, 0, 0, 4],\n",
    "                 [6, 0, 4, 0, 1, 9, 8, 0, 7],\n",
    "                 [0, 6, 0, 7, 0, 0, 0, 0, 0],\n",
    "                 [0, 0, 0, 6, 0, 4, 2, 0, 3],\n",
    "                 [0, 3, 9, 5, 0, 1, 0, 0, 0],\n",
    "                 [5, 0, 1, 8, 0, 0, 3, 0, 9],\n",
    "                 [3, 8, 0, 0, 5, 6, 0, 4, 0],\n",
    "                 [0, 0, 6, 0, 3, 7, 0, 2, 0]], dtype='int8')\n",
    "\n",
    "csp = SudokuCSP(grid)\n",
    "csp.ac_3()"
   ]
  },
  {
   "cell_type": "code",
   "execution_count": 5,
   "id": "e0466366-47c3-47e1-8687-1987000b4976",
   "metadata": {},
   "outputs": [
    {
     "name": "stdout",
     "output_type": "stream",
     "text": [
      "Problem has a feasible solution = True\n",
      "AC-3 was sufficient to resolve the instance of the problem = True\n"
     ]
    }
   ],
   "source": [
    "grid = np.array([[1, 5, 7, 4, 0, 8, 9, 3, 0],\n",
    "                 [8, 0, 3, 0, 0, 5, 0, 0, 4],\n",
    "                 [6, 0, 4, 0, 1, 9, 8, 0, 7],\n",
    "                 [0, 6, 0, 7, 0, 0, 0, 0, 0],\n",
    "                 [0, 0, 0, 6, 0, 4, 2, 0, 3],\n",
    "                 [0, 3, 9, 5, 0, 1, 0, 0, 0],\n",
    "                 [5, 0, 1, 8, 0, 0, 3, 0, 9],\n",
    "                 [3, 8, 0, 0, 5, 6, 0, 4, 0],\n",
    "                 [0, 0, 6, 0, 3, 7, 0, 2, 0]], dtype='int8')\n",
    "\n",
    "csp = SudokuCSP(grid)\n",
    "\n",
    "print(f'Problem has a feasible solution = {csp.ac_3()}')\n",
    "print(f'AC-3 was sufficient to resolve the instance of the problem = {csp.won}')"
   ]
  },
  {
   "cell_type": "markdown",
   "id": "85a18b23-2089-459f-8fae-627b2292c60f",
   "metadata": {
    "jp-MarkdownHeadingCollapsed": true
   },
   "source": [
    "## BACKTRACKING"
   ]
  },
  {
   "cell_type": "markdown",
   "id": "67a564cd-42f3-43a7-b42a-4a3a28febfe1",
   "metadata": {},
   "source": [
    "Some instances of the sudoku game cannot be solved with AC-3 alone, and it is necessary to use some search strategy:"
   ]
  },
  {
   "cell_type": "code",
   "execution_count": 6,
   "id": "dd1bafc4-5816-4120-844c-117a68ac7193",
   "metadata": {},
   "outputs": [],
   "source": [
    "grid = np.array([[0, 0, 5, 3, 0, 0, 0, 0, 0],\n",
    "                 [8, 0, 0, 0, 0, 0, 0, 2, 0],\n",
    "                 [0, 7, 0, 0, 1, 0, 5, 0, 0],\n",
    "                 [4, 0, 0, 0, 0, 5, 3, 0, 0],\n",
    "                 [0, 1, 0, 0, 7, 0, 0, 0, 6],\n",
    "                 [0, 0, 3, 2, 0, 0, 0, 8, 0],\n",
    "                 [0, 6, 0, 5, 0, 0, 0, 0, 9],\n",
    "                 [0, 0, 4, 0, 0, 0, 0, 3, 0],\n",
    "                 [0, 0, 0, 0, 0, 9, 7, 0, 0]], dtype='int8')\n",
    "\n",
    "csp = SudokuCSP(grid)"
   ]
  },
  {
   "cell_type": "code",
   "execution_count": 7,
   "id": "2ece1632-228f-4276-a4ab-f9413e07a861",
   "metadata": {},
   "outputs": [
    {
     "name": "stdout",
     "output_type": "stream",
     "text": [
      "Sum of the domain's option set before arc consistency is applied = 545\n"
     ]
    }
   ],
   "source": [
    "len_domain = 0\n",
    "for domain in csp.domains.values():\n",
    "    len_domain += len(domain)\n",
    "\n",
    "print(f'Sum of the domain\\'s option set before arc consistency is applied = {len_domain}')"
   ]
  },
  {
   "cell_type": "code",
   "execution_count": 8,
   "id": "7af785d0-be9a-4950-af9e-4b075adfd47b",
   "metadata": {},
   "outputs": [
    {
     "name": "stdout",
     "output_type": "stream",
     "text": [
      "Problem has a feasible solution = True\n",
      "AC-3 was sufficient to resolve the instance of the problem = False\n"
     ]
    }
   ],
   "source": [
    "print(f'Problem has a feasible solution = {csp.ac_3()}')\n",
    "print(f'AC-3 was sufficient to resolve the instance of the problem = {csp.won}')"
   ]
  },
  {
   "cell_type": "code",
   "execution_count": 9,
   "id": "ae0952e9-745a-44aa-8cf4-8a6e96aaa4fb",
   "metadata": {},
   "outputs": [
    {
     "name": "stdout",
     "output_type": "stream",
     "text": [
      "Sum of domain option set after arc consistency is applied = 240\n"
     ]
    }
   ],
   "source": [
    "len_domain = 0\n",
    "for domain in csp.domains.values():\n",
    "    len_domain += len(domain)\n",
    "\n",
    "print(f'Sum of domain option set after arc consistency is applied = {len_domain}')"
   ]
  },
  {
   "cell_type": "markdown",
   "id": "74b77e8f",
   "metadata": {},
   "source": [
    "Implementing the heuristics and auxiliary functions used in backtracking search for csp:"
   ]
  },
  {
   "cell_type": "code",
   "execution_count": 10,
   "id": "0c09115c",
   "metadata": {},
   "outputs": [],
   "source": [
    "def select_unassigned_variable(assignment, csp):\n",
    "    available_vars = [var\n",
    "                      for var in csp.vars\n",
    "                      if var not in assignment.keys()]\n",
    "    \n",
    "    return min(available_vars, key=lambda var: len(csp.domains[var]))\n",
    "\n",
    "def order_domain_values(assignment, csp, var):    \n",
    "    lcv = lambda value: len([neighbor\n",
    "                             for neighbor in csp.neighbors[var]\n",
    "                             if neighbor not in assignment and value in csp.domains[neighbor]])\n",
    "\n",
    "    return sorted(csp.domains[var], key=lcv)\n",
    "\n",
    "def assign(assignment, csp, var, value):\n",
    "    assignment[var] = value\n",
    "    \n",
    "    # Making inferences\n",
    "    for neighbor in csp.neighbors[var]:\n",
    "        if value in csp.domains[neighbor]:\n",
    "            csp.domains[neighbor].remove(value)\n",
    "            csp.cuts[var].append((neighbor, value))\n",
    "\n",
    "def unassign(assignment, csp, var):\n",
    "    # Unmaking inferences\n",
    "    for neighbor, value in csp.cuts[var]:\n",
    "        csp.domains[neighbor].append(value)\n",
    "\n",
    "    csp.cuts[var].clear()\n",
    "\n",
    "    del assignment[var]\n",
    "\n",
    "def assignment_in_grid(assignment):\n",
    "    grid = np.zeros((N, N), dtype='int8')\n",
    "\n",
    "    for pos, value in assignment.items():\n",
    "        grid[pos] = value\n",
    "\n",
    "    return grid"
   ]
  },
  {
   "cell_type": "markdown",
   "id": "0a5f12db",
   "metadata": {},
   "source": [
    "Implementing backtracking search:"
   ]
  },
  {
   "cell_type": "code",
   "execution_count": 11,
   "id": "53c81470",
   "metadata": {},
   "outputs": [],
   "source": [
    "def backtracking_search(csp):\n",
    "    assignment = {var : domain[0]\n",
    "                  for var, domain in csp.domains.items()\n",
    "                  if csp.assigned(var)}\n",
    "\n",
    "    return backtrack(assignment, csp, len(csp.vars))\n",
    "\n",
    "def backtrack(assignment, csp, vars):\n",
    "    if len(assignment) == vars:\n",
    "        return assignment\n",
    "\n",
    "    var = select_unassigned_variable(assignment, csp)\n",
    "\n",
    "    for value in order_domain_values(assignment, csp, var):\n",
    "        assign(assignment, csp, var, value)\n",
    "\n",
    "        result = backtrack(assignment, csp, vars)\n",
    "        if result:\n",
    "            return result\n",
    "\n",
    "        unassign(assignment, csp, var)\n",
    "\n",
    "    return None"
   ]
  },
  {
   "cell_type": "markdown",
   "id": "c836eb8a",
   "metadata": {},
   "source": [
    "Testing class instantiation and resolution via backtracking search:"
   ]
  },
  {
   "cell_type": "code",
   "execution_count": 12,
   "id": "44075095",
   "metadata": {},
   "outputs": [
    {
     "name": "stdout",
     "output_type": "stream",
     "text": [
      "Backtracking was sufficient to resolve the instance of the problem = True\n",
      "\n",
      "Grid =\n",
      "[[1 4 5 3 2 7 6 9 8]\n",
      " [8 3 9 6 5 4 1 2 7]\n",
      " [6 7 2 9 1 8 5 4 3]\n",
      " [4 9 6 1 8 5 3 7 2]\n",
      " [2 1 8 4 7 3 9 5 6]\n",
      " [7 5 3 2 9 6 4 8 1]\n",
      " [3 6 7 5 4 2 8 1 9]\n",
      " [9 8 4 7 6 1 2 3 5]\n",
      " [5 2 1 8 3 9 7 6 4]]\n"
     ]
    }
   ],
   "source": [
    "assignment = backtracking_search(csp)\n",
    "grid = assignment_in_grid(assignment)\n",
    "\n",
    "print(f'Backtracking was sufficient to resolve the instance of the problem = {objective_grid(grid)}')\n",
    "\n",
    "print()\n",
    "\n",
    "print('Grid =')\n",
    "print(grid)"
   ]
  },
  {
   "cell_type": "code",
   "execution_count": 13,
   "id": "2aa1a351",
   "metadata": {},
   "outputs": [
    {
     "name": "stdout",
     "output_type": "stream",
     "text": [
      "57.8 ms ± 2.61 ms per loop (mean ± std. dev. of 7 runs, 10 loops each)\n"
     ]
    }
   ],
   "source": [
    "%%timeit\n",
    "\n",
    "grid_inkala = np.array([[0, 0, 5, 3, 0, 0, 0, 0, 0],\n",
    "                        [8, 0, 0, 0, 0, 0, 0, 2, 0],\n",
    "                        [0, 7, 0, 0, 1, 0, 5, 0, 0],\n",
    "                        [4, 0, 0, 0, 0, 5, 3, 0, 0],\n",
    "                        [0, 1, 0, 0, 7, 0, 0, 0, 6],\n",
    "                        [0, 0, 3, 2, 0, 0, 0, 8, 0],\n",
    "                        [0, 6, 0, 5, 0, 0, 0, 0, 9],\n",
    "                        [0, 0, 4, 0, 0, 0, 0, 3, 0],\n",
    "                        [0, 0, 0, 0, 0, 9, 7, 0, 0]], dtype='int8')\n",
    "\n",
    "csp = SudokuCSP(grid_inkala)\n",
    "csp.ac_3()\n",
    "backtracking_search(csp)"
   ]
  },
  {
   "cell_type": "code",
   "execution_count": 14,
   "id": "19672fbf-1839-4821-a30e-ab7fa9c5927d",
   "metadata": {},
   "outputs": [
    {
     "name": "stdout",
     "output_type": "stream",
     "text": [
      "Backtracking was sufficient to resolve the instance of the problem = True\n",
      "\n",
      "Grid =\n",
      "[[1 4 5 3 2 7 6 9 8]\n",
      " [8 3 9 6 5 4 1 2 7]\n",
      " [6 7 2 9 1 8 5 4 3]\n",
      " [4 9 6 1 8 5 3 7 2]\n",
      " [2 1 8 4 7 3 9 5 6]\n",
      " [7 5 3 2 9 6 4 8 1]\n",
      " [3 6 7 5 4 2 8 1 9]\n",
      " [9 8 4 7 6 1 2 3 5]\n",
      " [5 2 1 8 3 9 7 6 4]]\n"
     ]
    }
   ],
   "source": [
    "grid_inkala = np.array([[0, 0, 5, 3, 0, 0, 0, 0, 0],\n",
    "                        [8, 0, 0, 0, 0, 0, 0, 2, 0],\n",
    "                        [0, 7, 0, 0, 1, 0, 5, 0, 0],\n",
    "                        [4, 0, 0, 0, 0, 5, 3, 0, 0],\n",
    "                        [0, 1, 0, 0, 7, 0, 0, 0, 6],\n",
    "                        [0, 0, 3, 2, 0, 0, 0, 8, 0],\n",
    "                        [0, 6, 0, 5, 0, 0, 0, 0, 9],\n",
    "                        [0, 0, 4, 0, 0, 0, 0, 3, 0],\n",
    "                        [0, 0, 0, 0, 0, 9, 7, 0, 0]], dtype='int8')\n",
    "\n",
    "csp = SudokuCSP(grid_inkala)\n",
    "csp.ac_3()\n",
    "assignment = backtracking_search(csp)\n",
    "grid = assignment_in_grid(assignment)\n",
    "    \n",
    "print(f'Backtracking was sufficient to resolve the instance of the problem = {objective_grid(grid)}')\n",
    "\n",
    "print()\n",
    "\n",
    "print('Grid =')\n",
    "print(grid)"
   ]
  }
 ],
 "metadata": {
  "kernelspec": {
   "display_name": "Python 3 (ipykernel)",
   "language": "python",
   "name": "python3"
  },
  "language_info": {
   "codemirror_mode": {
    "name": "ipython",
    "version": 3
   },
   "file_extension": ".py",
   "mimetype": "text/x-python",
   "name": "python",
   "nbconvert_exporter": "python",
   "pygments_lexer": "ipython3",
   "version": "3.11.4"
  }
 },
 "nbformat": 4,
 "nbformat_minor": 5
}
