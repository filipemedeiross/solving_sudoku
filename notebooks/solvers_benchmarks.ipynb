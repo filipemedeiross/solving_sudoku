{
 "cells": [
  {
   "cell_type": "markdown",
   "id": "3443fdf6",
   "metadata": {},
   "source": [
    "# BENCHMARKING THE SOLVERS"
   ]
  },
  {
   "cell_type": "markdown",
   "id": "e088db0f-abf3-4bac-b00a-92d8e1ec9a53",
   "metadata": {
    "jp-MarkdownHeadingCollapsed": true
   },
   "source": [
    "## PREPARING THE DEVELOPMENT ENVIRONMENT"
   ]
  },
  {
   "cell_type": "markdown",
   "id": "50917115",
   "metadata": {},
   "source": [
    "Including path to previous directory in built-in variable `sys.path`, allowing access to the `sudoku` package:"
   ]
  },
  {
   "cell_type": "code",
   "execution_count": 1,
   "id": "a35ff1d4",
   "metadata": {},
   "outputs": [],
   "source": [
    "import sys\n",
    "\n",
    "sys.path.append('../')"
   ]
  },
  {
   "cell_type": "markdown",
   "id": "af382221-0a89-4798-bc92-86f2e1e84688",
   "metadata": {},
   "source": [
    "Importing the libraries:"
   ]
  },
  {
   "cell_type": "code",
   "execution_count": 2,
   "id": "bc89c44e",
   "metadata": {},
   "outputs": [
    {
     "name": "stdout",
     "output_type": "stream",
     "text": [
      "pygame 2.5.2 (SDL 2.28.3, Python 3.11.4)\n",
      "Hello from the pygame community. https://www.pygame.org/contribute.html\n"
     ]
    }
   ],
   "source": [
    "import time\n",
    "import numpy as np\n",
    "import pandas as pd\n",
    "import seaborn as sns\n",
    "import matplotlib.pyplot as plt\n",
    "\n",
    "from sudoku.utils import objective_grid\n",
    "from sudoku.generators import generator\n",
    "from sudoku.solvers import solver_ip, \\\n",
    "                           solver_backtracking, \\\n",
    "                           solver_backtracking_for_csp"
   ]
  },
  {
   "cell_type": "markdown",
   "id": "b0eaa575",
   "metadata": {},
   "source": [
    "Implementing the benchmark function:"
   ]
  },
  {
   "cell_type": "code",
   "execution_count": 3,
   "id": "796a5200",
   "metadata": {},
   "outputs": [],
   "source": [
    "def solver_benchmark(func, args):\n",
    "    '''\n",
    "    Function to evaluate the efficiency of a given solver\n",
    "\n",
    "    :param func:\n",
    "    Solver function\n",
    "    :param args:\n",
    "    Sudoku instance set\n",
    "\n",
    "    Returns the average resolution time\n",
    "    '''\n",
    "    times = []\n",
    "\n",
    "    for arg in args:\n",
    "        start_time = time.time()\n",
    "        \n",
    "        # Checks if the solver was successful\n",
    "        if not objective_grid(func(arg)):\n",
    "            return None\n",
    "\n",
    "        times.append(time.time() - start_time)\n",
    "\n",
    "    return np.mean(times)"
   ]
  },
  {
   "cell_type": "markdown",
   "id": "32655c6e",
   "metadata": {},
   "source": [
    "Defining the constants and auxiliary variables:"
   ]
  },
  {
   "cell_type": "code",
   "execution_count": 4,
   "id": "9eb1d13a",
   "metadata": {},
   "outputs": [],
   "source": [
    "N_SAMPLE = 20\n",
    "\n",
    "cols = ['clues',\n",
    "        'backtracking',\n",
    "        'ip',\n",
    "        'backtracking_for_csp']\n",
    "\n",
    "clues = {col : []\n",
    "         for col in cols}"
   ]
  },
  {
   "cell_type": "markdown",
   "id": "c490789e",
   "metadata": {
    "jp-MarkdownHeadingCollapsed": true
   },
   "source": [
    "## BENCHMARKS USING A SAMPLE WITH 41-CLUES GRIDS"
   ]
  },
  {
   "cell_type": "code",
   "execution_count": 5,
   "id": "a55823f1",
   "metadata": {},
   "outputs": [
    {
     "name": "stdout",
     "output_type": "stream",
     "text": [
      "[[0 0 4 0 3 6 1 8 0]\n",
      " [0 3 0 0 0 2 6 0 7]\n",
      " [1 0 6 0 0 5 0 9 0]\n",
      " [5 0 3 8 0 0 2 0 0]\n",
      " [0 9 2 0 0 0 0 7 8]\n",
      " [8 7 0 5 0 9 3 0 0]\n",
      " [3 0 0 2 5 0 0 4 1]\n",
      " [2 0 5 4 9 1 0 0 0]\n",
      " [0 0 9 6 0 0 8 2 5]]\n"
     ]
    }
   ],
   "source": [
    "sample_41 = [generator()\n",
    "             for _ in range(N_SAMPLE)]\n",
    "\n",
    "print(sample_41[0])"
   ]
  },
  {
   "cell_type": "code",
   "execution_count": 6,
   "id": "8640d487",
   "metadata": {},
   "outputs": [],
   "source": [
    "clues['clues'].append(41)\n",
    "\n",
    "clues['backtracking'].append(solver_benchmark(solver_backtracking, sample_41))\n",
    "clues['ip'].append(solver_benchmark(solver_ip, sample_41))\n",
    "clues['backtracking_for_csp'].append(solver_benchmark(solver_backtracking_for_csp, sample_41))"
   ]
  },
  {
   "cell_type": "markdown",
   "id": "5a03dcb0",
   "metadata": {
    "jp-MarkdownHeadingCollapsed": true
   },
   "source": [
    "## BENCHMARKS USING A SAMPLE WITH 38-CLUES GRIDS"
   ]
  },
  {
   "cell_type": "code",
   "execution_count": 7,
   "id": "0c3a18ff",
   "metadata": {},
   "outputs": [
    {
     "name": "stdout",
     "output_type": "stream",
     "text": [
      "[[2 0 0 7 8 6 9 0 0]\n",
      " [0 8 4 9 0 0 1 0 0]\n",
      " [0 6 3 4 0 1 0 2 8]\n",
      " [3 0 5 0 4 0 6 1 0]\n",
      " [0 0 0 0 0 2 0 0 0]\n",
      " [0 9 0 6 1 5 8 0 0]\n",
      " [6 4 0 0 9 0 0 0 0]\n",
      " [0 3 8 0 6 7 0 0 0]\n",
      " [1 7 0 2 3 0 0 0 6]]\n"
     ]
    }
   ],
   "source": [
    "sample_38 = [generator(38)\n",
    "             for _ in range(N_SAMPLE)]\n",
    "\n",
    "print(sample_38[0])"
   ]
  },
  {
   "cell_type": "code",
   "execution_count": 8,
   "id": "ab65b949",
   "metadata": {},
   "outputs": [],
   "source": [
    "clues['clues'].append(38)\n",
    "\n",
    "clues['backtracking'].append(solver_benchmark(solver_backtracking, sample_38))\n",
    "clues['ip'].append(solver_benchmark(solver_ip, sample_38))\n",
    "clues['backtracking_for_csp'].append(solver_benchmark(solver_backtracking_for_csp, sample_38))"
   ]
  },
  {
   "cell_type": "markdown",
   "id": "621359a6",
   "metadata": {
    "jp-MarkdownHeadingCollapsed": true
   },
   "source": [
    "## BENCHMARKS USING A SAMPLE WITH 35-CLUES GRIDS"
   ]
  },
  {
   "cell_type": "code",
   "execution_count": 9,
   "id": "eace32c3",
   "metadata": {},
   "outputs": [
    {
     "name": "stdout",
     "output_type": "stream",
     "text": [
      "[[0 0 1 0 4 0 0 2 0]\n",
      " [3 7 0 2 0 0 0 4 5]\n",
      " [2 0 0 9 1 0 0 0 0]\n",
      " [0 1 3 5 2 0 0 7 8]\n",
      " [0 0 7 1 8 0 0 6 0]\n",
      " [8 0 0 4 0 3 2 5 0]\n",
      " [0 0 0 6 0 0 0 8 0]\n",
      " [7 0 0 0 9 0 4 1 0]\n",
      " [1 0 0 0 0 0 0 9 6]]\n"
     ]
    }
   ],
   "source": [
    "sample_35 = [generator(35)\n",
    "             for _ in range(N_SAMPLE)]\n",
    "\n",
    "print(sample_35[0])"
   ]
  },
  {
   "cell_type": "code",
   "execution_count": 10,
   "id": "317ba938",
   "metadata": {},
   "outputs": [],
   "source": [
    "clues['clues'].append(35)\n",
    "\n",
    "clues['backtracking'].append(solver_benchmark(solver_backtracking, sample_35))\n",
    "clues['ip'].append(solver_benchmark(solver_ip, sample_35))\n",
    "clues['backtracking_for_csp'].append(solver_benchmark(solver_backtracking_for_csp, sample_35))"
   ]
  },
  {
   "cell_type": "markdown",
   "id": "48bd65d8",
   "metadata": {
    "jp-MarkdownHeadingCollapsed": true
   },
   "source": [
    "## BENCHMARK FOR A SPECIFIC SUDOKU INSTANCE"
   ]
  },
  {
   "cell_type": "markdown",
   "id": "5f7d16cb",
   "metadata": {},
   "source": [
    "The following instance was created by finnish mathematician Arto Inkala and is considered to be the hardest sudoku game in the world.\n",
    "\n",
    "Obs.: On a difficulty scale ranging from 1 to 5 stars, the instance has 11 stars!"
   ]
  },
  {
   "cell_type": "code",
   "execution_count": 11,
   "id": "732a23cf",
   "metadata": {},
   "outputs": [
    {
     "name": "stdout",
     "output_type": "stream",
     "text": [
      "[[0 0 5 3 0 0 0 0 0]\n",
      " [8 0 0 0 0 0 0 2 0]\n",
      " [0 7 0 0 1 0 5 0 0]\n",
      " [4 0 0 0 0 5 3 0 0]\n",
      " [0 1 0 0 7 0 0 0 6]\n",
      " [0 0 3 2 0 0 0 8 0]\n",
      " [0 6 0 5 0 0 0 0 9]\n",
      " [0 0 4 0 0 0 0 3 0]\n",
      " [0 0 0 0 0 9 7 0 0]]\n"
     ]
    }
   ],
   "source": [
    "grid_inkala = np.array([[0, 0, 5, 3, 0, 0, 0, 0, 0],\n",
    "                        [8, 0, 0, 0, 0, 0, 0, 2, 0],\n",
    "                        [0, 7, 0, 0, 1, 0, 5, 0, 0],\n",
    "                        [4, 0, 0, 0, 0, 5, 3, 0, 0],\n",
    "                        [0, 1, 0, 0, 7, 0, 0, 0, 6],\n",
    "                        [0, 0, 3, 2, 0, 0, 0, 8, 0],\n",
    "                        [0, 6, 0, 5, 0, 0, 0, 0, 9],\n",
    "                        [0, 0, 4, 0, 0, 0, 0, 3, 0],\n",
    "                        [0, 0, 0, 0, 0, 9, 7, 0, 0]], dtype='int8')\n",
    "\n",
    "print(grid_inkala)"
   ]
  },
  {
   "cell_type": "code",
   "execution_count": 12,
   "id": "f4a81ad3",
   "metadata": {},
   "outputs": [],
   "source": [
    "clues['clues'].append(23)\n",
    "\n",
    "clues['backtracking'].append(solver_benchmark(solver_backtracking, [grid_inkala]))\n",
    "clues['ip'].append(solver_benchmark(solver_ip, [grid_inkala]))\n",
    "clues['backtracking_for_csp'].append(solver_benchmark(solver_backtracking_for_csp, [grid_inkala]))"
   ]
  },
  {
   "cell_type": "markdown",
   "id": "189db8eb",
   "metadata": {},
   "source": [
    "## SUMMARIZING THE DATA"
   ]
  },
  {
   "cell_type": "code",
   "execution_count": 13,
   "id": "c20ae877-6d64-48a0-8781-b2af9eaad504",
   "metadata": {},
   "outputs": [
    {
     "data": {
      "text/html": [
       "<div>\n",
       "<style scoped>\n",
       "    .dataframe tbody tr th:only-of-type {\n",
       "        vertical-align: middle;\n",
       "    }\n",
       "\n",
       "    .dataframe tbody tr th {\n",
       "        vertical-align: top;\n",
       "    }\n",
       "\n",
       "    .dataframe thead th {\n",
       "        text-align: right;\n",
       "    }\n",
       "</style>\n",
       "<table border=\"1\" class=\"dataframe\">\n",
       "  <thead>\n",
       "    <tr style=\"text-align: right;\">\n",
       "      <th></th>\n",
       "      <th>clues</th>\n",
       "      <th>backtracking</th>\n",
       "      <th>ip</th>\n",
       "      <th>backtracking_for_csp</th>\n",
       "    </tr>\n",
       "  </thead>\n",
       "  <tbody>\n",
       "    <tr>\n",
       "      <th>0</th>\n",
       "      <td>41</td>\n",
       "      <td>0.041069</td>\n",
       "      <td>0.049250</td>\n",
       "      <td>0.016683</td>\n",
       "    </tr>\n",
       "    <tr>\n",
       "      <th>1</th>\n",
       "      <td>38</td>\n",
       "      <td>0.058726</td>\n",
       "      <td>0.039371</td>\n",
       "      <td>0.018077</td>\n",
       "    </tr>\n",
       "    <tr>\n",
       "      <th>2</th>\n",
       "      <td>35</td>\n",
       "      <td>0.293334</td>\n",
       "      <td>0.036970</td>\n",
       "      <td>0.017293</td>\n",
       "    </tr>\n",
       "    <tr>\n",
       "      <th>3</th>\n",
       "      <td>23</td>\n",
       "      <td>17.857028</td>\n",
       "      <td>2.216157</td>\n",
       "      <td>0.046868</td>\n",
       "    </tr>\n",
       "  </tbody>\n",
       "</table>\n",
       "</div>"
      ],
      "text/plain": [
       "   clues  backtracking        ip  backtracking_for_csp\n",
       "0     41      0.041069  0.049250              0.016683\n",
       "1     38      0.058726  0.039371              0.018077\n",
       "2     35      0.293334  0.036970              0.017293\n",
       "3     23     17.857028  2.216157              0.046868"
      ]
     },
     "execution_count": 13,
     "metadata": {},
     "output_type": "execute_result"
    }
   ],
   "source": [
    "data = pd.DataFrame(clues)\n",
    "data"
   ]
  },
  {
   "cell_type": "code",
   "execution_count": 14,
   "id": "b28f46cc-4684-4750-bb96-b53ba474ec71",
   "metadata": {},
   "outputs": [
    {
     "data": {
      "image/png": "[encoded data removed]",
      "text/plain": [
       "<Figure size 640x480 with 1 Axes>"
      ]
     },
     "metadata": {},
     "output_type": "display_data"
    }
   ],
   "source": [
    "sns.set(style=\"whitegrid\")\n",
    "\n",
    "sns.lineplot(x='clues', y='backtracking', data=data, label='Backtracking')\n",
    "sns.lineplot(x='clues', y='ip', data=data, label='IP')\n",
    "sns.lineplot(x='clues', y='backtracking_for_csp', data=data, label='Backtracking for CSP')\n",
    "\n",
    "plt.legend()\n",
    "plt.xlabel('Clues')\n",
    "plt.ylabel('Time')\n",
    "plt.title('Comparison of Search Methods')\n",
    "\n",
    "plt.yscale('log')\n",
    "plt.xticks(data['clues'])\n",
    "plt.gca().invert_xaxis()\n",
    "\n",
    "plt.show()"
   ]
  },
  {
   "cell_type": "markdown",
   "id": "e1f1b59c-e34f-4975-b397-24e9b5f71bf9",
   "metadata": {},
   "source": [
    "By examining the data, we notice that the conventional search approach with backtracking proves highly efficient for simpler sudoku puzzles. However, it becomes impractical for tackling more intricate puzzles as the execution time significantly escalates.\n",
    "\n",
    "While solving sudoku via integer linear programming presents a viable alternative, the search method tailored for constraint satisfaction problems emerges as the optimal choice. Under this strategy, the resolution time consistently stays below one tenths of a second even for the most challenging puzzle instances."
   ]
  }
 ],
 "metadata": {
  "kernelspec": {
   "display_name": "Python 3 (ipykernel)",
   "language": "python",
   "name": "python3"
  },
  "language_info": {
   "codemirror_mode": {
    "name": "ipython",
    "version": 3
   },
   "file_extension": ".py",
   "mimetype": "text/x-python",
   "name": "python",
   "nbconvert_exporter": "python",
   "pygments_lexer": "ipython3",
   "version": "3.11.4"
  }
 },
 "nbformat": 4,
 "nbformat_minor": 5
}
