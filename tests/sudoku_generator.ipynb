{
 "cells": [
  {
   "cell_type": "markdown",
   "id": "409b6e1c",
   "metadata": {},
   "source": [
    "# DEVELOPING THE SUDOKU GENERATOR"
   ]
  },
  {
   "cell_type": "markdown",
   "id": "78232c07",
   "metadata": {},
   "source": [
    "## Problem Formulation"
   ]
  },
  {
   "cell_type": "markdown",
   "id": "68ed1b4f",
   "metadata": {},
   "source": [
    "Importing the libraries:"
   ]
  },
  {
   "cell_type": "code",
   "execution_count": 1,
   "id": "49407ef1",
   "metadata": {},
   "outputs": [],
   "source": [
    "import numpy as np\n",
    "from random import choice"
   ]
  },
  {
   "cell_type": "markdown",
   "id": "f6822fec",
   "metadata": {},
   "source": [
    "Auxiliary functions:"
   ]
  },
  {
   "cell_type": "code",
   "execution_count": 2,
   "id": "0c682122",
   "metadata": {},
   "outputs": [],
   "source": [
    "# Defining the constants\n",
    "N = 9  # number of grid rows and columns\n",
    "STEP = 3  # sets the size of the quadrant side\n",
    "\n",
    "\n",
    "# Turns a number between 0 and 80 into a sudoku grid coordinate\n",
    "def flatten_position(flat_pos):\n",
    "    return flat_pos // N, flat_pos % N"
   ]
  },
  {
   "cell_type": "markdown",
   "id": "0660a64a",
   "metadata": {},
   "source": [
    "Checks if the grid satisfies the single element constraint and if the target state has been reached:"
   ]
  },
  {
   "cell_type": "code",
   "execution_count": 3,
   "id": "2f2b9d39",
   "metadata": {},
   "outputs": [],
   "source": [
    "def satisfies_constraints(grid_slice):  # the slice is flattened before sorting\n",
    "    return np.array_equal(np.sort(grid_slice, axis=None), np.arange(1, N+1))\n",
    "\n",
    "def check_rows(grid):\n",
    "    for row in grid:\n",
    "        if not satisfies_constraints(row):\n",
    "            return False\n",
    "    \n",
    "    return True\n",
    "\n",
    "def check_columns(grid):\n",
    "    for column in grid.T:\n",
    "        if not satisfies_constraints(column):\n",
    "            return False\n",
    "    \n",
    "    return True\n",
    "\n",
    "def check_quadrants(grid):\n",
    "    for i in range(0, N, STEP):\n",
    "        for j in range(0, N, STEP):\n",
    "            if not satisfies_constraints(grid[j : j+STEP, i : i+STEP]):\n",
    "                return False\n",
    "    \n",
    "    return True\n",
    "\n",
    "def objective_grid(grid):\n",
    "    return check_rows(grid) and check_columns(grid) and check_quadrants(grid)"
   ]
  },
  {
   "cell_type": "markdown",
   "id": "be4c66fe",
   "metadata": {},
   "source": [
    "Checking available actions for a given grid:"
   ]
  },
  {
   "cell_type": "code",
   "execution_count": 4,
   "id": "94139cac",
   "metadata": {},
   "outputs": [],
   "source": [
    "def number_constraint(grid, y, x, num):\n",
    "    yy = y // STEP * STEP\n",
    "    xx = x // STEP * STEP\n",
    "    \n",
    "    return num not in np.concatenate((grid[y], grid[:, x], grid[yy : yy+STEP, xx : xx+STEP].flatten()))\n",
    "\n",
    "def available_pos(grid):\n",
    "    return [(y, x) for y, x in zip(*np.where(grid == 0))]\n",
    "\n",
    "def available_nums(grid, y, x):\n",
    "    return [num for num in range(1, N+1) if number_constraint(grid, y, x, num)]"
   ]
  },
  {
   "cell_type": "markdown",
   "id": "adbcd343",
   "metadata": {},
   "source": [
    "## Solver"
   ]
  },
  {
   "cell_type": "markdown",
   "id": "d6e9ab48",
   "metadata": {},
   "source": [
    "Need to implement a solver to check if the grid has a unique solution. To this end, the search strategy with backtracking was used, as follows:"
   ]
  },
  {
   "cell_type": "code",
   "execution_count": 5,
   "id": "e5338f7f",
   "metadata": {},
   "outputs": [],
   "source": [
    "def solver(sudoku_grid):\n",
    "    grid = sudoku_grid.copy()  # does not change the original grid\n",
    "    \n",
    "    solution = None\n",
    "    \n",
    "    max_steps = np.count_nonzero(grid==0)\n",
    "    moves = [None] * max_steps\n",
    "    actions = [None] * max_steps\n",
    "    \n",
    "    size = 0\n",
    "    while True:\n",
    "        if objective_grid(grid):\n",
    "            if not np.all(solution):  # defines the solution, if no one has been found so far\n",
    "                solution = grid.copy()\n",
    "            else:  # if there is more than one solution, return None\n",
    "                return None\n",
    "\n",
    "        # size == max_steps works like not available_pos(grid) \n",
    "        while size == max_steps or not available_nums(grid, *available_pos(grid)[0]):\n",
    "            size -= 1\n",
    "            \n",
    "            while not actions[size]:   \n",
    "                # There are no more possibilities for actions to be explored\n",
    "                if size == 0:\n",
    "                    return solution  # single solution or None\n",
    "\n",
    "                grid[moves[size]] = 0  # undoing each modification to generate the next successor\n",
    "                size -= 1\n",
    "\n",
    "            num = actions[size].pop()\n",
    "\n",
    "            grid[moves[size]] = num\n",
    "            size += 1\n",
    "            \n",
    "        # Developing subtrees:\n",
    "        # not at the search limit\n",
    "        # there are actions available for the current tree level\n",
    "        pos = available_pos(grid)[0]\n",
    "        nums = available_nums(grid, *pos)\n",
    "\n",
    "        num = nums.pop()\n",
    "\n",
    "        grid[pos] = num\n",
    "        moves[size] = pos\n",
    "        actions[size] = nums\n",
    "        size += 1"
   ]
  },
  {
   "cell_type": "markdown",
   "id": "7e308773",
   "metadata": {},
   "source": [
    "Testing the sudoku solver:"
   ]
  },
  {
   "cell_type": "code",
   "execution_count": 6,
   "id": "c3c65ba6",
   "metadata": {},
   "outputs": [],
   "source": [
    "# Single solution array\n",
    "array1 = np.array([[5, 3, 0, 0, 7, 0, 0, 0, 0],\n",
    "                   [6, 0, 0, 1, 9, 5, 0, 0, 0],\n",
    "                   [0, 9, 8, 0, 0, 0, 0, 6, 0],\n",
    "                   [8, 0, 0, 0, 6, 0, 0, 0, 3],\n",
    "                   [4, 0, 0, 8, 0, 3, 0, 0, 1],\n",
    "                   [7, 0, 0, 0, 2, 0, 0, 0, 6],\n",
    "                   [0, 6, 0, 0, 0, 0, 2, 8, 0],\n",
    "                   [0, 0, 0, 4, 1, 9, 0, 0, 5],\n",
    "                   [0, 0, 0, 0, 8, 0, 0, 7, 9]])\n",
    "\n",
    "# Array with more than one solution\n",
    "array2 = np.array([[5, 3, 0, 0, 7, 0, 0, 0, 0],\n",
    "                   [6, 0, 0, 1, 9, 5, 0, 0, 0],\n",
    "                   [0, 9, 8, 0, 0, 0, 0, 6, 0],\n",
    "                   [8, 0, 0, 0, 6, 0, 0, 0, 3],\n",
    "                   [4, 0, 0, 8, 0, 3, 0, 0, 1],\n",
    "                   [7, 0, 0, 0, 2, 0, 0, 0, 6],\n",
    "                   [0, 6, 0, 0, 0, 0, 2, 8, 0],\n",
    "                   [0, 0, 0, 4, 1, 9, 0, 0, 5],\n",
    "                   [0, 0, 0, 0, 8, 0, 0, 0, 0]])\n",
    "\n",
    "# Unsolved array\n",
    "array3 = np.array([[5, 3, 0, 0, 7, 0, 1, 0, 0],\n",
    "                   [6, 0, 0, 1, 9, 5, 0, 0, 0],\n",
    "                   [0, 9, 8, 0, 0, 0, 0, 6, 0],\n",
    "                   [8, 0, 0, 0, 6, 0, 0, 0, 3],\n",
    "                   [4, 0, 0, 8, 0, 3, 0, 0, 1],\n",
    "                   [7, 0, 0, 0, 2, 0, 0, 0, 6],\n",
    "                   [0, 6, 0, 0, 0, 0, 2, 8, 0],\n",
    "                   [0, 0, 0, 4, 1, 9, 0, 0, 5],\n",
    "                   [0, 0, 0, 0, 8, 0, 0, 7, 9]])"
   ]
  },
  {
   "cell_type": "code",
   "execution_count": 7,
   "id": "9c104a5d",
   "metadata": {},
   "outputs": [
    {
     "name": "stdout",
     "output_type": "stream",
     "text": [
      "[[5 3 4 6 7 8 9 1 2]\n",
      " [6 7 2 1 9 5 3 4 8]\n",
      " [1 9 8 3 4 2 5 6 7]\n",
      " [8 5 9 7 6 1 4 2 3]\n",
      " [4 2 6 8 5 3 7 9 1]\n",
      " [7 1 3 9 2 4 8 5 6]\n",
      " [9 6 1 5 3 7 2 8 4]\n",
      " [2 8 7 4 1 9 6 3 5]\n",
      " [3 4 5 2 8 6 1 7 9]]\n"
     ]
    }
   ],
   "source": [
    "result = solver(array1)\n",
    "\n",
    "print(result)"
   ]
  },
  {
   "cell_type": "code",
   "execution_count": 8,
   "id": "ab231606",
   "metadata": {},
   "outputs": [
    {
     "name": "stdout",
     "output_type": "stream",
     "text": [
      "None\n"
     ]
    }
   ],
   "source": [
    "result = solver(array2)\n",
    "\n",
    "print(result)"
   ]
  },
  {
   "cell_type": "code",
   "execution_count": 9,
   "id": "e906c3fa",
   "metadata": {},
   "outputs": [
    {
     "name": "stdout",
     "output_type": "stream",
     "text": [
      "None\n"
     ]
    }
   ],
   "source": [
    "result = solver(array3)\n",
    "\n",
    "print(result)"
   ]
  },
  {
   "cell_type": "markdown",
   "id": "86664b0e",
   "metadata": {},
   "source": [
    "## Generator"
   ]
  },
  {
   "cell_type": "markdown",
   "id": "1c2d2a5b",
   "metadata": {},
   "source": [
    "Fills the grid through the search strategy with backtracking and clears positions checking if the sudoku remains with a unique solution:"
   ]
  },
  {
   "cell_type": "code",
   "execution_count": 10,
   "id": "facf2c0f",
   "metadata": {},
   "outputs": [],
   "source": [
    "def generator(difficulty=41):  # the difficulty parameter represents the number of initial sudoku clues\n",
    "    grid = np.zeros((N, N), dtype='int8')\n",
    "    \n",
    "    actions = [None] * 81\n",
    "    size = 0  # represents the grid fill level and the current position to be inserted\n",
    "    while not objective_grid(grid):        \n",
    "        # Getting the next possible actions\n",
    "        nums = available_nums(grid, *flatten_position(size))\n",
    "        \n",
    "        if nums:\n",
    "            random_move = np.random.randint(len(nums))\n",
    "            num = nums.pop(random_move)\n",
    "            \n",
    "            actions[size] = nums\n",
    "        else:\n",
    "            size -= 1\n",
    "\n",
    "            while not actions[size]:  # undoing each modification to generate the next successor\n",
    "                grid[flatten_position(size)] = 0\n",
    "                size -= 1\n",
    "            \n",
    "            random_move = np.random.randint(len(actions[size]))\n",
    "            num = actions[size].pop(random_move)\n",
    "\n",
    "        grid[flatten_position(size)] = num\n",
    "        size += 1\n",
    "        \n",
    "    while np.count_nonzero(grid) > difficulty:\n",
    "        position = choice([(y, x) for y, x in zip(*np.where(grid))])\n",
    "\n",
    "        grid_copy = grid.copy()\n",
    "        grid_copy[position] = 0\n",
    "\n",
    "        if np.all(solver(grid_copy)):  # checks if grid_copy has a unique solution\n",
    "            grid[position] = 0\n",
    "\n",
    "    return grid"
   ]
  },
  {
   "cell_type": "markdown",
   "id": "7653da70",
   "metadata": {},
   "source": [
    "Testing the sudoku generator:"
   ]
  },
  {
   "cell_type": "code",
   "execution_count": 11,
   "id": "c94c9115",
   "metadata": {},
   "outputs": [
    {
     "name": "stdout",
     "output_type": "stream",
     "text": [
      "[[6 8 0 5 9 0 0 2 3]\n",
      " [9 2 0 0 6 0 0 8 4]\n",
      " [4 0 0 3 0 0 0 0 1]\n",
      " [7 5 0 0 1 0 3 0 0]\n",
      " [2 0 0 0 3 5 8 0 6]\n",
      " [0 0 6 0 8 0 0 7 5]\n",
      " [0 1 7 0 4 2 6 3 9]\n",
      " [0 4 0 6 7 1 0 0 0]\n",
      " [8 0 0 0 0 3 0 4 0]] ==> 41\n",
      "\n",
      "[[6 8 1 5 9 4 7 2 3]\n",
      " [9 2 3 1 6 7 5 8 4]\n",
      " [4 7 5 3 2 8 9 6 1]\n",
      " [7 5 8 4 1 6 3 9 2]\n",
      " [2 9 4 7 3 5 8 1 6]\n",
      " [1 3 6 2 8 9 4 7 5]\n",
      " [5 1 7 8 4 2 6 3 9]\n",
      " [3 4 9 6 7 1 2 5 8]\n",
      " [8 6 2 9 5 3 1 4 7]]\n"
     ]
    }
   ],
   "source": [
    "sudoku = generator()\n",
    "\n",
    "print(sudoku, '==>', np.count_nonzero(sudoku))\n",
    "print()\n",
    "print(solver(sudoku))"
   ]
  },
  {
   "cell_type": "code",
   "execution_count": 12,
   "id": "c25128bb",
   "metadata": {},
   "outputs": [
    {
     "name": "stdout",
     "output_type": "stream",
     "text": [
      "[[0 7 0 0 0 0 9 0 0]\n",
      " [0 0 8 0 1 6 5 2 3]\n",
      " [0 3 6 4 9 0 0 0 7]\n",
      " [0 0 0 0 0 7 1 8 5]\n",
      " [0 5 4 0 0 0 7 9 6]\n",
      " [0 6 7 0 8 5 0 4 0]\n",
      " [6 1 0 0 0 0 2 0 0]\n",
      " [7 8 5 0 0 9 0 0 1]\n",
      " [4 0 2 1 0 3 0 7 8]] ==> 41\n",
      "\n",
      "[[2 7 1 5 3 8 9 6 4]\n",
      " [9 4 8 7 1 6 5 2 3]\n",
      " [5 3 6 4 9 2 8 1 7]\n",
      " [3 2 9 6 4 7 1 8 5]\n",
      " [8 5 4 3 2 1 7 9 6]\n",
      " [1 6 7 9 8 5 3 4 2]\n",
      " [6 1 3 8 7 4 2 5 9]\n",
      " [7 8 5 2 6 9 4 3 1]\n",
      " [4 9 2 1 5 3 6 7 8]]\n"
     ]
    }
   ],
   "source": [
    "sudoku = generator()\n",
    "\n",
    "print(sudoku, '==>', np.count_nonzero(sudoku))\n",
    "print()\n",
    "print(solver(sudoku))"
   ]
  },
  {
   "cell_type": "code",
   "execution_count": 13,
   "id": "99476710",
   "metadata": {},
   "outputs": [
    {
     "name": "stdout",
     "output_type": "stream",
     "text": [
      "[[0 0 1 3 6 0 9 0 5]\n",
      " [7 6 0 5 0 0 4 0 1]\n",
      " [5 0 8 4 0 0 0 3 0]\n",
      " [0 7 6 8 5 4 0 0 0]\n",
      " [8 5 0 0 0 3 2 0 6]\n",
      " [3 0 9 0 0 6 0 0 0]\n",
      " [9 0 2 6 7 0 1 0 0]\n",
      " [1 0 0 0 0 8 5 0 2]\n",
      " [0 4 5 0 3 0 7 9 0]] ==> 41\n",
      "\n",
      "[[4 2 1 3 6 7 9 8 5]\n",
      " [7 6 3 5 8 9 4 2 1]\n",
      " [5 9 8 4 1 2 6 3 7]\n",
      " [2 7 6 8 5 4 3 1 9]\n",
      " [8 5 4 1 9 3 2 7 6]\n",
      " [3 1 9 7 2 6 8 5 4]\n",
      " [9 8 2 6 7 5 1 4 3]\n",
      " [1 3 7 9 4 8 5 6 2]\n",
      " [6 4 5 2 3 1 7 9 8]]\n"
     ]
    }
   ],
   "source": [
    "sudoku = generator()\n",
    "\n",
    "print(sudoku, '==>', np.count_nonzero(sudoku))\n",
    "print()\n",
    "print(solver(sudoku))"
   ]
  }
 ],
 "metadata": {
  "kernelspec": {
   "display_name": ".venv",
   "language": "python",
   "name": ".venv"
  },
  "language_info": {
   "codemirror_mode": {
    "name": "ipython",
    "version": 3
   },
   "file_extension": ".py",
   "mimetype": "text/x-python",
   "name": "python",
   "nbconvert_exporter": "python",
   "pygments_lexer": "ipython3",
   "version": "3.8.10"
  }
 },
 "nbformat": 4,
 "nbformat_minor": 5
}
