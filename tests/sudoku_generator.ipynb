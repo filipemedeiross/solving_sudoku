{
 "cells": [
  {
   "cell_type": "markdown",
   "id": "409b6e1c",
   "metadata": {},
   "source": [
    "# Sudoku Generator"
   ]
  },
  {
   "cell_type": "markdown",
   "id": "68ed1b4f",
   "metadata": {},
   "source": [
    "Importing the libraries:"
   ]
  },
  {
   "cell_type": "code",
   "execution_count": 1,
   "id": "49407ef1",
   "metadata": {},
   "outputs": [],
   "source": [
    "import numpy as np"
   ]
  },
  {
   "cell_type": "markdown",
   "id": "f6822fec",
   "metadata": {},
   "source": [
    "## Auxiliary functions"
   ]
  },
  {
   "cell_type": "markdown",
   "id": "0660a64a",
   "metadata": {},
   "source": [
    "Checks if the grid satisfies the single element constraint and if the target state has been reached:"
   ]
  },
  {
   "cell_type": "code",
   "execution_count": 2,
   "id": "2f2b9d39",
   "metadata": {},
   "outputs": [],
   "source": [
    "N = 9  # number of grid rows and columns\n",
    "STEP = 3  # defines the side of the quadrant\n",
    "\n",
    "def sudoku_constraint(grid_slice):\n",
    "    return np.array_equal(np.unique(grid_slice), np.arange(1, N+1))\n",
    "\n",
    "def check_rows(grid):\n",
    "    for row in grid:\n",
    "        if not sudoku_constraint(row):\n",
    "            return False\n",
    "    \n",
    "    return True\n",
    "\n",
    "def check_columns(grid):\n",
    "    for column in grid.T:\n",
    "        if not sudoku_constraint(column):\n",
    "            return False\n",
    "    \n",
    "    return True\n",
    "\n",
    "def check_quadrants(grid):\n",
    "    for i in range(0, grid.shape[0], STEP):\n",
    "        for j in range(0, grid.shape[1], STEP):\n",
    "            if not sudoku_constraint(np.unique(grid[i:i+STEP, j:j+STEP])):\n",
    "                return False\n",
    "    \n",
    "    return True\n",
    "\n",
    "def objective_grid(grid):\n",
    "    return check_rows(grid) and check_columns(grid) and check_quadrants(grid)"
   ]
  },
  {
   "cell_type": "markdown",
   "id": "be4c66fe",
   "metadata": {},
   "source": [
    "Checking available actions for a given grid:"
   ]
  },
  {
   "cell_type": "code",
   "execution_count": 3,
   "id": "94139cac",
   "metadata": {},
   "outputs": [],
   "source": [
    "def number_constraint(grid, y, x, num):\n",
    "    yy = y // STEP * 3\n",
    "    xx = x // STEP * 3\n",
    "    \n",
    "    return num not in np.concatenate((grid[y], grid[:, x], grid[yy : yy+STEP, xx : xx+STEP].flatten()))\n",
    "\n",
    "def flatten_position(pos):\n",
    "    return pos // N, pos % N\n",
    "\n",
    "def available_pos(grid):\n",
    "    return [(y, x) for y, x in zip(*np.where(grid == 0))]\n",
    "\n",
    "def available_nums(grid, y, x):\n",
    "    return [num for num in range(1, N+1) if not grid[y, x] and number_constraint(grid, y, x, num)] \n",
    "\n",
    "def available_actions(grid):\n",
    "    return [((y, x), num) for y, x in available_pos(grid) for num in available_nums(grid, y, x)]"
   ]
  },
  {
   "cell_type": "markdown",
   "id": "86664b0e",
   "metadata": {},
   "source": [
    "## Generator"
   ]
  },
  {
   "cell_type": "markdown",
   "id": "1c2d2a5b",
   "metadata": {},
   "source": [
    "Using the backtracking search strategy:"
   ]
  },
  {
   "cell_type": "code",
   "execution_count": 4,
   "id": "7116ce15",
   "metadata": {},
   "outputs": [],
   "source": [
    "def generator():\n",
    "    grid = np.zeros((N, N))\n",
    "    \n",
    "    moves = [None] * 81\n",
    "    size = 0\n",
    "    while True:\n",
    "        if objective_grid(grid):\n",
    "            for i in range(40):\n",
    "                pos = flatten_position(np.random.randint(81))\n",
    "                grid[pos] = 0\n",
    "                \n",
    "            return grid\n",
    "        \n",
    "        # Getting the next available position and fill options\n",
    "        pos = flatten_position(size)\n",
    "        nums = available_nums(grid, *pos)\n",
    "        \n",
    "        if nums:    \n",
    "            num = nums.pop(np.random.randint(len(nums)))\n",
    "        \n",
    "            grid[pos] = num\n",
    "            moves[size] = nums\n",
    "            size += 1\n",
    "            \n",
    "            continue\n",
    "                \n",
    "        grid[pos] = 0\n",
    "        size -= 1\n",
    "\n",
    "        while not moves[size]:\n",
    "            pos = flatten_position(size)\n",
    "            \n",
    "            grid[pos] = 0\n",
    "            size -= 1\n",
    "\n",
    "        pos = flatten_position(size)\n",
    "        num = moves[size].pop(np.random.randint(len(moves[size])))\n",
    "\n",
    "        grid[pos] = num\n",
    "        size += 1"
   ]
  },
  {
   "cell_type": "markdown",
   "id": "8572197d",
   "metadata": {},
   "source": [
    "Testing the sudoku generator:"
   ]
  },
  {
   "cell_type": "code",
   "execution_count": 5,
   "id": "c5d83816",
   "metadata": {},
   "outputs": [
    {
     "data": {
      "text/plain": [
       "array([[8., 3., 0., 0., 6., 1., 7., 4., 9.],\n",
       "       [0., 6., 1., 2., 7., 0., 3., 5., 0.],\n",
       "       [4., 5., 7., 3., 9., 8., 2., 0., 0.],\n",
       "       [0., 0., 9., 0., 5., 0., 0., 0., 6.],\n",
       "       [0., 8., 0., 0., 0., 0., 1., 9., 3.],\n",
       "       [6., 0., 3., 8., 0., 0., 4., 0., 0.],\n",
       "       [7., 4., 0., 9., 0., 0., 6., 0., 0.],\n",
       "       [2., 1., 0., 0., 8., 6., 9., 3., 4.],\n",
       "       [3., 0., 0., 1., 4., 2., 0., 0., 7.]])"
      ]
     },
     "execution_count": 5,
     "metadata": {},
     "output_type": "execute_result"
    }
   ],
   "source": [
    "grid = generator()\n",
    "\n",
    "grid"
   ]
  }
 ],
 "metadata": {
  "kernelspec": {
   "display_name": ".venv",
   "language": "python",
   "name": ".venv"
  },
  "language_info": {
   "codemirror_mode": {
    "name": "ipython",
    "version": 3
   },
   "file_extension": ".py",
   "mimetype": "text/x-python",
   "name": "python",
   "nbconvert_exporter": "python",
   "pygments_lexer": "ipython3",
   "version": "3.8.10"
  }
 },
 "nbformat": 4,
 "nbformat_minor": 5
}
