{
 "cells": [
  {
   "cell_type": "markdown",
   "id": "4e5d7314",
   "metadata": {},
   "source": [
    "# SUDOKU SOLVER"
   ]
  },
  {
   "cell_type": "code",
   "execution_count": 1,
   "id": "e0bc903a",
   "metadata": {},
   "outputs": [],
   "source": [
    "# Including path to previous directory in built-in variable sys.path\n",
    "\n",
    "import sys\n",
    "\n",
    "sys.path.append('../')"
   ]
  },
  {
   "cell_type": "markdown",
   "id": "d226de1b",
   "metadata": {},
   "source": [
    "Importing the relevant libraries:"
   ]
  },
  {
   "cell_type": "code",
   "execution_count": 3,
   "id": "35e211f6",
   "metadata": {},
   "outputs": [],
   "source": [
    "import numpy as np\n",
    "from sudoku.utils import N, STEP, objective_grid"
   ]
  },
  {
   "cell_type": "markdown",
   "id": "d486a989",
   "metadata": {},
   "source": [
    "Definition of auxiliary functions:"
   ]
  },
  {
   "cell_type": "code",
   "execution_count": 4,
   "id": "ab11e016",
   "metadata": {},
   "outputs": [],
   "source": [
    "def square_loc(pos):\n",
    "    pos_square = pos // STEP * STEP\n",
    "    \n",
    "    return pos_square, pos_square + STEP"
   ]
  },
  {
   "cell_type": "markdown",
   "id": "007a624f",
   "metadata": {},
   "source": [
    "## Defining CSP"
   ]
  },
  {
   "cell_type": "markdown",
   "id": "ee5a37cb",
   "metadata": {},
   "source": [
    "Class that defines the CSP and allows the application of the solver:"
   ]
  },
  {
   "cell_type": "code",
   "execution_count": 5,
   "id": "c0f49385",
   "metadata": {},
   "outputs": [],
   "source": [
    "class SudokuCSP:\n",
    "    def __init__(self, grid):\n",
    "        self.domains = self.node_consistency(grid)\n",
    "                \n",
    "        self.neighbors = self.generate_neighbors()  # avoid checking each time it is necessary\n",
    "        \n",
    "        self.constraints = self.generate_constraints()\n",
    "                \n",
    "    @staticmethod\n",
    "    def node_consistency(grid):\n",
    "        domains = {(y, x) : [grid[y, x]] if grid[y, x] else list(range(1, N+1)) \n",
    "                   for y in range(N)\n",
    "                   for x in range(N)}\n",
    "        \n",
    "        return domains\n",
    "    \n",
    "    def generate_neighbors(self):\n",
    "        neighbors = {(y, x) : set([(y, i) for i in range(N) if i != x] + \n",
    "                                  [(j, x) for j in range(N) if j != y] + \n",
    "                                  [(j, i) for j in range(*square_loc(y)) for i in range(*square_loc(x))\n",
    "                                   if i != x and j != y])\n",
    "                     for y, x in self.vars}\n",
    "        \n",
    "        return neighbors\n",
    "    \n",
    "    def generate_constraints(self):\n",
    "        return [(var, neighbor) for var in self.vars for neighbor in self.neighbors[var]]\n",
    "    \n",
    "    def ac_3(self):\n",
    "        queue = self.constraints.copy()\n",
    "        \n",
    "        while queue:\n",
    "            xi, xj = queue.pop(0)\n",
    "            \n",
    "            if self.revise(xi, xj):\n",
    "                if not self.domains[xi]:\n",
    "                    return False\n",
    "                \n",
    "                for xk in self.neighbors[xi] - {xj}:\n",
    "                    queue.append((xk, xi))\n",
    "        \n",
    "        return True\n",
    "    \n",
    "    def revise(self, xi, xj):\n",
    "        revised = False\n",
    "        \n",
    "        for x in self.domains[xi]:\n",
    "            if not any([x != y for y in self.domains[xj]]):\n",
    "                self.domains[xi].remove(x)\n",
    "                \n",
    "                revised = True\n",
    "        \n",
    "        return revised\n",
    "        \n",
    "    @property\n",
    "    def vars(self):\n",
    "        return list(self.domains.keys())\n",
    "    \n",
    "    @property\n",
    "    def won(self):\n",
    "        if all(list(map(lambda x: len(x) == 1, csp.domains.values()))):\n",
    "            grid = np.array(list(map(lambda domain: domain[0], csp.domains.values()))).reshape((N, N))\n",
    "            \n",
    "            return objective_grid(grid)\n",
    "        \n",
    "        return False"
   ]
  },
  {
   "cell_type": "markdown",
   "id": "7798fa8d",
   "metadata": {},
   "source": [
    "Testing class instantiation and resolution through AC-3:"
   ]
  },
  {
   "cell_type": "code",
   "execution_count": 6,
   "id": "4c45407e",
   "metadata": {},
   "outputs": [],
   "source": [
    "# Sudoku that can only be solved with AC-3\n",
    "grid_ac3 = np.array([[1, 5, 7, 4, 0, 8, 9, 3, 0],\n",
    "                     [8, 0, 3, 0, 0, 5, 0, 0, 4],\n",
    "                     [6, 0, 4, 0, 1, 9, 8, 0, 7],\n",
    "                     [0, 6, 0, 7, 0, 0, 0, 0, 0],\n",
    "                     [0, 0, 0, 6, 0, 4, 2, 0, 3],\n",
    "                     [0, 3, 9, 5, 0, 1, 0, 0, 0],\n",
    "                     [5, 0, 1, 8, 0, 0, 3, 0, 9],\n",
    "                     [3, 8, 0, 0, 5, 6, 0, 4, 0],\n",
    "                     [0, 0, 6, 0, 3, 7, 0, 2, 0]], dtype='int8')"
   ]
  },
  {
   "cell_type": "code",
   "execution_count": 7,
   "id": "7a354b16",
   "metadata": {},
   "outputs": [
    {
     "data": {
      "text/plain": [
       "{(0, 0): [1],\n",
       " (0, 1): [5],\n",
       " (0, 2): [7],\n",
       " (0, 3): [4],\n",
       " (0, 4): [1, 2, 3, 4, 5, 6, 7, 8, 9],\n",
       " (0, 5): [8],\n",
       " (0, 6): [9],\n",
       " (0, 7): [3],\n",
       " (0, 8): [1, 2, 3, 4, 5, 6, 7, 8, 9],\n",
       " (1, 0): [8],\n",
       " (1, 1): [1, 2, 3, 4, 5, 6, 7, 8, 9],\n",
       " (1, 2): [3],\n",
       " (1, 3): [1, 2, 3, 4, 5, 6, 7, 8, 9],\n",
       " (1, 4): [1, 2, 3, 4, 5, 6, 7, 8, 9],\n",
       " (1, 5): [5],\n",
       " (1, 6): [1, 2, 3, 4, 5, 6, 7, 8, 9],\n",
       " (1, 7): [1, 2, 3, 4, 5, 6, 7, 8, 9],\n",
       " (1, 8): [4],\n",
       " (2, 0): [6],\n",
       " (2, 1): [1, 2, 3, 4, 5, 6, 7, 8, 9],\n",
       " (2, 2): [4],\n",
       " (2, 3): [1, 2, 3, 4, 5, 6, 7, 8, 9],\n",
       " (2, 4): [1],\n",
       " (2, 5): [9],\n",
       " (2, 6): [8],\n",
       " (2, 7): [1, 2, 3, 4, 5, 6, 7, 8, 9],\n",
       " (2, 8): [7],\n",
       " (3, 0): [1, 2, 3, 4, 5, 6, 7, 8, 9],\n",
       " (3, 1): [6],\n",
       " (3, 2): [1, 2, 3, 4, 5, 6, 7, 8, 9],\n",
       " (3, 3): [7],\n",
       " (3, 4): [1, 2, 3, 4, 5, 6, 7, 8, 9],\n",
       " (3, 5): [1, 2, 3, 4, 5, 6, 7, 8, 9],\n",
       " (3, 6): [1, 2, 3, 4, 5, 6, 7, 8, 9],\n",
       " (3, 7): [1, 2, 3, 4, 5, 6, 7, 8, 9],\n",
       " (3, 8): [1, 2, 3, 4, 5, 6, 7, 8, 9],\n",
       " (4, 0): [1, 2, 3, 4, 5, 6, 7, 8, 9],\n",
       " (4, 1): [1, 2, 3, 4, 5, 6, 7, 8, 9],\n",
       " (4, 2): [1, 2, 3, 4, 5, 6, 7, 8, 9],\n",
       " (4, 3): [6],\n",
       " (4, 4): [1, 2, 3, 4, 5, 6, 7, 8, 9],\n",
       " (4, 5): [4],\n",
       " (4, 6): [2],\n",
       " (4, 7): [1, 2, 3, 4, 5, 6, 7, 8, 9],\n",
       " (4, 8): [3],\n",
       " (5, 0): [1, 2, 3, 4, 5, 6, 7, 8, 9],\n",
       " (5, 1): [3],\n",
       " (5, 2): [9],\n",
       " (5, 3): [5],\n",
       " (5, 4): [1, 2, 3, 4, 5, 6, 7, 8, 9],\n",
       " (5, 5): [1],\n",
       " (5, 6): [1, 2, 3, 4, 5, 6, 7, 8, 9],\n",
       " (5, 7): [1, 2, 3, 4, 5, 6, 7, 8, 9],\n",
       " (5, 8): [1, 2, 3, 4, 5, 6, 7, 8, 9],\n",
       " (6, 0): [5],\n",
       " (6, 1): [1, 2, 3, 4, 5, 6, 7, 8, 9],\n",
       " (6, 2): [1],\n",
       " (6, 3): [8],\n",
       " (6, 4): [1, 2, 3, 4, 5, 6, 7, 8, 9],\n",
       " (6, 5): [1, 2, 3, 4, 5, 6, 7, 8, 9],\n",
       " (6, 6): [3],\n",
       " (6, 7): [1, 2, 3, 4, 5, 6, 7, 8, 9],\n",
       " (6, 8): [9],\n",
       " (7, 0): [3],\n",
       " (7, 1): [8],\n",
       " (7, 2): [1, 2, 3, 4, 5, 6, 7, 8, 9],\n",
       " (7, 3): [1, 2, 3, 4, 5, 6, 7, 8, 9],\n",
       " (7, 4): [5],\n",
       " (7, 5): [6],\n",
       " (7, 6): [1, 2, 3, 4, 5, 6, 7, 8, 9],\n",
       " (7, 7): [4],\n",
       " (7, 8): [1, 2, 3, 4, 5, 6, 7, 8, 9],\n",
       " (8, 0): [1, 2, 3, 4, 5, 6, 7, 8, 9],\n",
       " (8, 1): [1, 2, 3, 4, 5, 6, 7, 8, 9],\n",
       " (8, 2): [6],\n",
       " (8, 3): [1, 2, 3, 4, 5, 6, 7, 8, 9],\n",
       " (8, 4): [3],\n",
       " (8, 5): [7],\n",
       " (8, 6): [1, 2, 3, 4, 5, 6, 7, 8, 9],\n",
       " (8, 7): [2],\n",
       " (8, 8): [1, 2, 3, 4, 5, 6, 7, 8, 9]}"
      ]
     },
     "execution_count": 7,
     "metadata": {},
     "output_type": "execute_result"
    }
   ],
   "source": [
    "csp = SudokuCSP(grid_ac3)\n",
    "\n",
    "csp.domains"
   ]
  },
  {
   "cell_type": "code",
   "execution_count": 8,
   "id": "06e0a363",
   "metadata": {},
   "outputs": [
    {
     "data": {
      "text/plain": [
       "True"
      ]
     },
     "execution_count": 8,
     "metadata": {},
     "output_type": "execute_result"
    }
   ],
   "source": [
    "# Performing the propagation of inferences:\n",
    "\n",
    "csp.ac_3()"
   ]
  },
  {
   "cell_type": "code",
   "execution_count": 9,
   "id": "8ad7b5b4",
   "metadata": {},
   "outputs": [
    {
     "data": {
      "text/plain": [
       "True"
      ]
     },
     "execution_count": 9,
     "metadata": {},
     "output_type": "execute_result"
    }
   ],
   "source": [
    "csp.won"
   ]
  },
  {
   "cell_type": "markdown",
   "id": "c836eb8a",
   "metadata": {},
   "source": [
    "Testing class instantiation and resolution via backtracking search:"
   ]
  },
  {
   "cell_type": "code",
   "execution_count": 10,
   "id": "a6163877",
   "metadata": {},
   "outputs": [],
   "source": [
    "# Sudoku that cannot be solved with AC-3 alone\n",
    "grid_backtracking = np.array([[0, 0, 5, 3, 0, 0, 0, 0, 0],\n",
    "                              [8, 0, 0, 0, 0, 0, 0, 2, 0],\n",
    "                              [0, 7, 0, 0, 1, 0, 5, 0, 0],\n",
    "                              [4, 0, 0, 0, 0, 5, 3, 0, 0],\n",
    "                              [0, 1, 0, 0, 7, 0, 0, 0, 6],\n",
    "                              [0, 0, 3, 2, 0, 0, 0, 8, 0],\n",
    "                              [0, 6, 0, 5, 0, 0, 0, 0, 9],\n",
    "                              [0, 0, 4, 0, 0, 0, 0, 3, 0],\n",
    "                              [0, 0, 0, 0, 0, 9, 7, 0, 0]], dtype='int8')"
   ]
  },
  {
   "cell_type": "code",
   "execution_count": 11,
   "id": "63f494ca",
   "metadata": {},
   "outputs": [
    {
     "data": {
      "text/plain": [
       "{(0, 0): [1, 2, 3, 4, 5, 6, 7, 8, 9],\n",
       " (0, 1): [1, 2, 3, 4, 5, 6, 7, 8, 9],\n",
       " (0, 2): [5],\n",
       " (0, 3): [3],\n",
       " (0, 4): [1, 2, 3, 4, 5, 6, 7, 8, 9],\n",
       " (0, 5): [1, 2, 3, 4, 5, 6, 7, 8, 9],\n",
       " (0, 6): [1, 2, 3, 4, 5, 6, 7, 8, 9],\n",
       " (0, 7): [1, 2, 3, 4, 5, 6, 7, 8, 9],\n",
       " (0, 8): [1, 2, 3, 4, 5, 6, 7, 8, 9],\n",
       " (1, 0): [8],\n",
       " (1, 1): [1, 2, 3, 4, 5, 6, 7, 8, 9],\n",
       " (1, 2): [1, 2, 3, 4, 5, 6, 7, 8, 9],\n",
       " (1, 3): [1, 2, 3, 4, 5, 6, 7, 8, 9],\n",
       " (1, 4): [1, 2, 3, 4, 5, 6, 7, 8, 9],\n",
       " (1, 5): [1, 2, 3, 4, 5, 6, 7, 8, 9],\n",
       " (1, 6): [1, 2, 3, 4, 5, 6, 7, 8, 9],\n",
       " (1, 7): [2],\n",
       " (1, 8): [1, 2, 3, 4, 5, 6, 7, 8, 9],\n",
       " (2, 0): [1, 2, 3, 4, 5, 6, 7, 8, 9],\n",
       " (2, 1): [7],\n",
       " (2, 2): [1, 2, 3, 4, 5, 6, 7, 8, 9],\n",
       " (2, 3): [1, 2, 3, 4, 5, 6, 7, 8, 9],\n",
       " (2, 4): [1],\n",
       " (2, 5): [1, 2, 3, 4, 5, 6, 7, 8, 9],\n",
       " (2, 6): [5],\n",
       " (2, 7): [1, 2, 3, 4, 5, 6, 7, 8, 9],\n",
       " (2, 8): [1, 2, 3, 4, 5, 6, 7, 8, 9],\n",
       " (3, 0): [4],\n",
       " (3, 1): [1, 2, 3, 4, 5, 6, 7, 8, 9],\n",
       " (3, 2): [1, 2, 3, 4, 5, 6, 7, 8, 9],\n",
       " (3, 3): [1, 2, 3, 4, 5, 6, 7, 8, 9],\n",
       " (3, 4): [1, 2, 3, 4, 5, 6, 7, 8, 9],\n",
       " (3, 5): [5],\n",
       " (3, 6): [3],\n",
       " (3, 7): [1, 2, 3, 4, 5, 6, 7, 8, 9],\n",
       " (3, 8): [1, 2, 3, 4, 5, 6, 7, 8, 9],\n",
       " (4, 0): [1, 2, 3, 4, 5, 6, 7, 8, 9],\n",
       " (4, 1): [1],\n",
       " (4, 2): [1, 2, 3, 4, 5, 6, 7, 8, 9],\n",
       " (4, 3): [1, 2, 3, 4, 5, 6, 7, 8, 9],\n",
       " (4, 4): [7],\n",
       " (4, 5): [1, 2, 3, 4, 5, 6, 7, 8, 9],\n",
       " (4, 6): [1, 2, 3, 4, 5, 6, 7, 8, 9],\n",
       " (4, 7): [1, 2, 3, 4, 5, 6, 7, 8, 9],\n",
       " (4, 8): [6],\n",
       " (5, 0): [1, 2, 3, 4, 5, 6, 7, 8, 9],\n",
       " (5, 1): [1, 2, 3, 4, 5, 6, 7, 8, 9],\n",
       " (5, 2): [3],\n",
       " (5, 3): [2],\n",
       " (5, 4): [1, 2, 3, 4, 5, 6, 7, 8, 9],\n",
       " (5, 5): [1, 2, 3, 4, 5, 6, 7, 8, 9],\n",
       " (5, 6): [1, 2, 3, 4, 5, 6, 7, 8, 9],\n",
       " (5, 7): [8],\n",
       " (5, 8): [1, 2, 3, 4, 5, 6, 7, 8, 9],\n",
       " (6, 0): [1, 2, 3, 4, 5, 6, 7, 8, 9],\n",
       " (6, 1): [6],\n",
       " (6, 2): [1, 2, 3, 4, 5, 6, 7, 8, 9],\n",
       " (6, 3): [5],\n",
       " (6, 4): [1, 2, 3, 4, 5, 6, 7, 8, 9],\n",
       " (6, 5): [1, 2, 3, 4, 5, 6, 7, 8, 9],\n",
       " (6, 6): [1, 2, 3, 4, 5, 6, 7, 8, 9],\n",
       " (6, 7): [1, 2, 3, 4, 5, 6, 7, 8, 9],\n",
       " (6, 8): [9],\n",
       " (7, 0): [1, 2, 3, 4, 5, 6, 7, 8, 9],\n",
       " (7, 1): [1, 2, 3, 4, 5, 6, 7, 8, 9],\n",
       " (7, 2): [4],\n",
       " (7, 3): [1, 2, 3, 4, 5, 6, 7, 8, 9],\n",
       " (7, 4): [1, 2, 3, 4, 5, 6, 7, 8, 9],\n",
       " (7, 5): [1, 2, 3, 4, 5, 6, 7, 8, 9],\n",
       " (7, 6): [1, 2, 3, 4, 5, 6, 7, 8, 9],\n",
       " (7, 7): [3],\n",
       " (7, 8): [1, 2, 3, 4, 5, 6, 7, 8, 9],\n",
       " (8, 0): [1, 2, 3, 4, 5, 6, 7, 8, 9],\n",
       " (8, 1): [1, 2, 3, 4, 5, 6, 7, 8, 9],\n",
       " (8, 2): [1, 2, 3, 4, 5, 6, 7, 8, 9],\n",
       " (8, 3): [1, 2, 3, 4, 5, 6, 7, 8, 9],\n",
       " (8, 4): [1, 2, 3, 4, 5, 6, 7, 8, 9],\n",
       " (8, 5): [9],\n",
       " (8, 6): [7],\n",
       " (8, 7): [1, 2, 3, 4, 5, 6, 7, 8, 9],\n",
       " (8, 8): [1, 2, 3, 4, 5, 6, 7, 8, 9]}"
      ]
     },
     "execution_count": 11,
     "metadata": {},
     "output_type": "execute_result"
    }
   ],
   "source": [
    "csp = SudokuCSP(grid_backtracking)\n",
    "\n",
    "csp.domains"
   ]
  },
  {
   "cell_type": "code",
   "execution_count": 12,
   "id": "fc1382f5",
   "metadata": {},
   "outputs": [
    {
     "data": {
      "text/plain": [
       "True"
      ]
     },
     "execution_count": 12,
     "metadata": {},
     "output_type": "execute_result"
    }
   ],
   "source": [
    "csp.ac_3()"
   ]
  },
  {
   "cell_type": "code",
   "execution_count": 13,
   "id": "765676da",
   "metadata": {},
   "outputs": [
    {
     "data": {
      "text/plain": [
       "False"
      ]
     },
     "execution_count": 13,
     "metadata": {},
     "output_type": "execute_result"
    }
   ],
   "source": [
    "csp.won"
   ]
  }
 ],
 "metadata": {
  "kernelspec": {
   "display_name": ".venv",
   "language": "python",
   "name": ".venv"
  },
  "language_info": {
   "codemirror_mode": {
    "name": "ipython",
    "version": 3
   },
   "file_extension": ".py",
   "mimetype": "text/x-python",
   "name": "python",
   "nbconvert_exporter": "python",
   "pygments_lexer": "ipython3",
   "version": "3.8.10"
  }
 },
 "nbformat": 4,
 "nbformat_minor": 5
}
