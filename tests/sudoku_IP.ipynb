{
 "cells": [
  {
   "cell_type": "markdown",
   "id": "b3092390",
   "metadata": {},
   "source": [
    "# MODELING SUDOKU AS AN INTEGER LINEAR PROGRAMMING PROBLEM"
   ]
  },
  {
   "cell_type": "markdown",
   "id": "5efd2508",
   "metadata": {},
   "source": [
    "Importing the relevant libraries:"
   ]
  },
  {
   "cell_type": "code",
   "execution_count": 1,
   "id": "8b057d9e",
   "metadata": {},
   "outputs": [],
   "source": [
    "# Including path to previous directory in built-in variable sys.path\n",
    "\n",
    "import sys\n",
    "\n",
    "sys.path.append('../')"
   ]
  },
  {
   "cell_type": "code",
   "execution_count": 2,
   "id": "6c87acce",
   "metadata": {},
   "outputs": [
    {
     "name": "stdout",
     "output_type": "stream",
     "text": [
      "pygame 2.1.2 (SDL 2.0.16, Python 3.8.10)\n",
      "Hello from the pygame community. https://www.pygame.org/contribute.html\n"
     ]
    }
   ],
   "source": [
    "from mip import *\n",
    "import numpy as np\n",
    "from sudoku.utils import N, STEP, objective_grid"
   ]
  },
  {
   "cell_type": "markdown",
   "id": "53c7f015",
   "metadata": {},
   "source": [
    "Sample grid for testing:"
   ]
  },
  {
   "cell_type": "code",
   "execution_count": 3,
   "id": "6554ecbb",
   "metadata": {},
   "outputs": [],
   "source": [
    "grid_example = np.array([[0, 0, 5, 3, 0, 0, 0, 0, 0],\n",
    "                         [8, 0, 0, 0, 0, 0, 0, 2, 0],\n",
    "                         [0, 7, 0, 0, 1, 0, 5, 0, 0],\n",
    "                         [4, 0, 0, 0, 0, 5, 3, 0, 0],\n",
    "                         [0, 1, 0, 0, 7, 0, 0, 0, 6],\n",
    "                         [0, 0, 3, 2, 0, 0, 0, 8, 0],\n",
    "                         [0, 6, 0, 5, 0, 0, 0, 0, 9],\n",
    "                         [0, 0, 4, 0, 0, 0, 0, 3, 0],\n",
    "                         [0, 0, 0, 0, 0, 9, 7, 0, 0]], dtype='int8')"
   ]
  },
  {
   "cell_type": "markdown",
   "id": "53821893",
   "metadata": {},
   "source": [
    "Preprocess the grid to become the model input:"
   ]
  },
  {
   "cell_type": "code",
   "execution_count": 4,
   "id": "f2e8c1e2",
   "metadata": {},
   "outputs": [],
   "source": [
    "def preprocess_grid(grid):\n",
    "    return [(ij//N, ij%N, k) for ij, k in enumerate(grid.flatten())]"
   ]
  },
  {
   "cell_type": "code",
   "execution_count": 5,
   "id": "492ded0f",
   "metadata": {},
   "outputs": [
    {
     "data": {
      "text/plain": [
       "[(0, 0, 0),\n",
       " (0, 1, 0),\n",
       " (0, 2, 5),\n",
       " (0, 3, 3),\n",
       " (0, 4, 0),\n",
       " (0, 5, 0),\n",
       " (0, 6, 0),\n",
       " (0, 7, 0),\n",
       " (0, 8, 0),\n",
       " (1, 0, 8),\n",
       " (1, 1, 0),\n",
       " (1, 2, 0),\n",
       " (1, 3, 0),\n",
       " (1, 4, 0),\n",
       " (1, 5, 0),\n",
       " (1, 6, 0),\n",
       " (1, 7, 2),\n",
       " (1, 8, 0),\n",
       " (2, 0, 0),\n",
       " (2, 1, 7),\n",
       " (2, 2, 0),\n",
       " (2, 3, 0),\n",
       " (2, 4, 1),\n",
       " (2, 5, 0),\n",
       " (2, 6, 5),\n",
       " (2, 7, 0),\n",
       " (2, 8, 0),\n",
       " (3, 0, 4),\n",
       " (3, 1, 0),\n",
       " (3, 2, 0),\n",
       " (3, 3, 0),\n",
       " (3, 4, 0),\n",
       " (3, 5, 5),\n",
       " (3, 6, 3),\n",
       " (3, 7, 0),\n",
       " (3, 8, 0),\n",
       " (4, 0, 0),\n",
       " (4, 1, 1),\n",
       " (4, 2, 0),\n",
       " (4, 3, 0),\n",
       " (4, 4, 7),\n",
       " (4, 5, 0),\n",
       " (4, 6, 0),\n",
       " (4, 7, 0),\n",
       " (4, 8, 6),\n",
       " (5, 0, 0),\n",
       " (5, 1, 0),\n",
       " (5, 2, 3),\n",
       " (5, 3, 2),\n",
       " (5, 4, 0),\n",
       " (5, 5, 0),\n",
       " (5, 6, 0),\n",
       " (5, 7, 8),\n",
       " (5, 8, 0),\n",
       " (6, 0, 0),\n",
       " (6, 1, 6),\n",
       " (6, 2, 0),\n",
       " (6, 3, 5),\n",
       " (6, 4, 0),\n",
       " (6, 5, 0),\n",
       " (6, 6, 0),\n",
       " (6, 7, 0),\n",
       " (6, 8, 9),\n",
       " (7, 0, 0),\n",
       " (7, 1, 0),\n",
       " (7, 2, 4),\n",
       " (7, 3, 0),\n",
       " (7, 4, 0),\n",
       " (7, 5, 0),\n",
       " (7, 6, 0),\n",
       " (7, 7, 3),\n",
       " (7, 8, 0),\n",
       " (8, 0, 0),\n",
       " (8, 1, 0),\n",
       " (8, 2, 0),\n",
       " (8, 3, 0),\n",
       " (8, 4, 0),\n",
       " (8, 5, 9),\n",
       " (8, 6, 7),\n",
       " (8, 7, 0),\n",
       " (8, 8, 0)]"
      ]
     },
     "execution_count": 5,
     "metadata": {},
     "output_type": "execute_result"
    }
   ],
   "source": [
    "preprocess_grid(grid_example)"
   ]
  },
  {
   "cell_type": "markdown",
   "id": "a4e91895",
   "metadata": {},
   "source": [
    "Modeling the problem:\n",
    "- Binary variables identified by (i, j, k);\n",
    "- (i, j, k) represents whether position i (row) and j (column) is filled with value k;\n",
    "- Objective function is omitted as it is irrelevant to the problem, since sudoku has a unique solution."
   ]
  },
  {
   "cell_type": "code",
   "execution_count": 6,
   "id": "9a3eb39f",
   "metadata": {},
   "outputs": [],
   "source": [
    "def create_model(C):  # set C represents the clues given by the game\n",
    "    \n",
    "    model = Model(sense=MINIMIZE, solver_name=CBC)\n",
    "\n",
    "    x = [[[model.add_var(var_type=BINARY, name=\"x\" + str(i) + str(j) + str(k))\n",
    "           for k in range(1, N+1)]  # range of names between {1,..., 9} != range of positions between {0,...,8}\n",
    "          for j in range(N)]\n",
    "         for i in range(N)]\n",
    "    \n",
    "    # Game clues must be strictly followed\n",
    "    for i, j, k in C:\n",
    "        if k:  # 0 represents that it is not filled\n",
    "            model += x[i][j][k-1] == 1, \"CLUE_x\" + str(i) + str(j) + str(k)\n",
    "    \n",
    "    # All cells must be filled in necessarily once\n",
    "    for i in range(N):\n",
    "        for j in range(N):\n",
    "            model += xsum(x[i][j][k] for k in range(N)) == 1, \"FILL_x\" + str(i) + str(j)\n",
    "    \n",
    "    # AllDiff constraints on lines\n",
    "    for i in range(N):\n",
    "        for k in range(N):\n",
    "            model += xsum(x[i][j][k] for j in range(N)) == 1, \"ALLDIFF_line\" + str(i) + str(k)\n",
    "    \n",
    "    # AllDiff constraints on columns\n",
    "    for j in range(N):\n",
    "        for k in range(N):\n",
    "            model += xsum(x[i][j][k] for i in range(N)) == 1, \"ALLDIFF_column\" + str(j) + str(k)\n",
    "    \n",
    "    # AllDiff constraints on 3x3 squares\n",
    "    for m, n in zip([yy//STEP*STEP for yy in range(N)], [xx for xx in range(0, N, STEP)]*STEP):\n",
    "        for k in range(N):\n",
    "            model += xsum(x[i][j][k] for i in range(m, m+STEP)\n",
    "                          for j in range(n, n+STEP)) == 1, \"ALLDIFF_square\" + str(m//STEP + n//STEP) + str(k)\n",
    "\n",
    "    return model"
   ]
  },
  {
   "cell_type": "code",
   "execution_count": 7,
   "id": "2cc0f7c8",
   "metadata": {},
   "outputs": [],
   "source": [
    "def solver_IP(grid):\n",
    "    goal_grid = grid.copy()  # does not change the grid passed as a parameter\n",
    "    \n",
    "    model = create_model(preprocess_grid(goal_grid))\n",
    "    model.optimize()\n",
    "\n",
    "    for v in model.vars:\n",
    "        if v.x:  # was assigned with 1\n",
    "            i, j, k = map(int, v.name[1:])  # ignore the character 'x'\n",
    "\n",
    "            if not goal_grid[i, j]:\n",
    "                goal_grid[i, j] = k\n",
    "\n",
    "    return goal_grid"
   ]
  },
  {
   "cell_type": "markdown",
   "id": "751d700e",
   "metadata": {},
   "source": [
    "Testing the solver:"
   ]
  },
  {
   "cell_type": "code",
   "execution_count": 8,
   "id": "030226af",
   "metadata": {},
   "outputs": [
    {
     "name": "stdout",
     "output_type": "stream",
     "text": [
      "Welcome to the CBC MILP Solver \n",
      "Version: devel \n",
      "Build Date: Nov 15 2020 \n",
      "\n",
      "Starting solution of the Linear programming relaxation problem using Primal Simplex\n",
      "\n",
      "Coin0506I Presolve 189 (-158) rows, 185 (-544) columns and 760 (-2179) elements\n",
      "Clp1000I sum of infeasibilities 3.43475e-06 - average 1.81733e-08, 7 fixed columns\n",
      "Coin0506I Presolve 173 (-16) rows, 168 (-17) columns and 709 (-51) elements\n",
      "Clp0000I Optimal - objective value 0\n",
      "Clp0000I Optimal - objective value 0\n",
      "Coin0511I After Postsolve, objective 0, infeasibilities - dual 0 (0), primal 0 (0)\n",
      "Clp0000I Optimal - objective value 0\n",
      "Clp0000I Optimal - objective value 0\n",
      "Clp0000I Optimal - objective value 0\n",
      "Coin0511I After Postsolve, objective 0, infeasibilities - dual 0 (0), primal 0 (0)\n",
      "Clp0032I Optimal objective 0 - 0 iterations time 0.012, Presolve 0.00, Idiot 0.01\n",
      "\n",
      "Starting MIP optimization\n",
      "Cgl0003I 6 fixed, 0 tightened bounds, 0 strengthened rows, 15 substitutions\n",
      "Cgl0004I processed model has 173 rows, 170 columns (170 integer (170 of which binary)) and 695 elements\n",
      "Coin3009W Conflict graph built in 0.000 seconds, density: 1.991%\n",
      "Cgl0015I Clique Strengthening extended 0 cliques, 0 were dominated\n",
      "Cbc0045I No integer variables out of 170 objects (170 integer) have costs\n",
      "Cbc0045I branch on satisfied N create fake objective Y random cost Y\n",
      "Cbc0038I Initial state - 92 integers unsatisfied sum - 29.5\n",
      "Cbc0038I Pass   1: suminf.   17.22222 (92) obj. 0 iterations 22\n",
      "Cbc0038I Pass   2: suminf.   16.33333 (49) obj. 0 iterations 25\n",
      "Cbc0038I Pass   3: suminf.   16.33333 (49) obj. 0 iterations 6\n",
      "Cbc0038I Pass   4: suminf.   17.50000 (35) obj. 0 iterations 20\n",
      "Cbc0038I Pass   5: suminf.   17.50000 (35) obj. 0 iterations 7\n",
      "Cbc0038I Pass   6: suminf.   17.50000 (35) obj. 0 iterations 6\n",
      "Cbc0038I Pass   7: suminf.   17.50000 (35) obj. 0 iterations 16\n",
      "Cbc0038I Pass   8: suminf.   20.50000 (41) obj. 0 iterations 33\n",
      "Cbc0038I Pass   9: suminf.   20.50000 (41) obj. 0 iterations 18\n",
      "Cbc0038I Pass  10: suminf.   20.50000 (41) obj. 0 iterations 26\n",
      "Cbc0038I Pass  11: suminf.   20.50000 (41) obj. 0 iterations 23\n",
      "Cbc0038I Pass  12: suminf.   17.50000 (35) obj. 0 iterations 29\n",
      "Cbc0038I Pass  13: suminf.   17.50000 (35) obj. 0 iterations 23\n",
      "Cbc0038I Pass  14: suminf.   17.50000 (35) obj. 0 iterations 8\n",
      "Cbc0038I Pass  15: suminf.   17.50000 (35) obj. 0 iterations 2\n",
      "Cbc0038I Pass  16: suminf.   17.50000 (35) obj. 0 iterations 21\n",
      "Cbc0038I Pass  17: suminf.   17.50000 (35) obj. 0 iterations 21\n",
      "Cbc0038I Pass  18: suminf.   17.50000 (35) obj. 0 iterations 25\n",
      "Cbc0038I Pass  19: suminf.   17.50000 (35) obj. 0 iterations 21\n",
      "Cbc0038I Pass  20: suminf.   17.50000 (35) obj. 0 iterations 29\n",
      "Cbc0038I Pass  21: suminf.   17.50000 (35) obj. 0 iterations 32\n",
      "Cbc0038I Pass  22: suminf.   17.50000 (35) obj. 0 iterations 18\n",
      "Cbc0038I Pass  23: suminf.   17.50000 (35) obj. 0 iterations 23\n",
      "Cbc0038I Pass  24: suminf.   17.50000 (35) obj. 0 iterations 36\n",
      "Cbc0038I Pass  25: suminf.   17.50000 (35) obj. 0 iterations 37\n",
      "Cbc0038I Pass  26: suminf.   17.50000 (35) obj. 0 iterations 29\n",
      "Cbc0038I Pass  27: suminf.   17.50000 (35) obj. 0 iterations 21\n",
      "Cbc0038I Pass  28: suminf.   17.50000 (35) obj. 0 iterations 32\n",
      "Cbc0038I Pass  29: suminf.   17.50000 (35) obj. 0 iterations 22\n",
      "Cbc0038I Pass  30: suminf.   17.50000 (35) obj. 0 iterations 25\n",
      "Cbc0038I Pass  31: suminf.   17.50000 (35) obj. 0 iterations 25\n",
      "Cbc0038I Pass  32: suminf.   17.50000 (35) obj. 0 iterations 31\n",
      "Cbc0038I Pass  33: suminf.   17.50000 (35) obj. 0 iterations 35\n",
      "Cbc0038I Pass  34: suminf.   17.50000 (35) obj. 0 iterations 27\n",
      "Cbc0038I Pass  35: suminf.   17.50000 (35) obj. 0 iterations 23\n",
      "Cbc0038I Pass  36: suminf.   17.50000 (35) obj. 0 iterations 26\n",
      "Cbc0038I Pass  37: suminf.   17.50000 (35) obj. 0 iterations 42\n",
      "Cbc0038I Pass  38: suminf.   17.50000 (35) obj. 0 iterations 23\n",
      "Cbc0038I Pass  39: suminf.   17.50000 (35) obj. 0 iterations 30\n",
      "Cbc0038I Pass  40: suminf.   17.50000 (35) obj. 0 iterations 27\n",
      "Cbc0038I Pass  41: suminf.   17.50000 (35) obj. 0 iterations 28\n",
      "Cbc0038I Pass  42: suminf.   17.50000 (35) obj. 0 iterations 40\n",
      "Cbc0038I Pass  43: suminf.   18.00000 (36) obj. 0 iterations 32\n",
      "Cbc0038I Pass  44: suminf.   18.00000 (36) obj. 0 iterations 21\n",
      "Cbc0038I Pass  45: suminf.   18.00000 (36) obj. 0 iterations 7\n",
      "Cbc0038I Pass  46: suminf.   18.00000 (36) obj. 0 iterations 7\n",
      "Cbc0038I Pass  47: suminf.   18.00000 (36) obj. 0 iterations 34\n",
      "Cbc0038I Pass  48: suminf.   18.00000 (36) obj. 0 iterations 18\n",
      "Cbc0038I Pass  49: suminf.   18.00000 (36) obj. 0 iterations 27\n",
      "Cbc0038I Pass  50: suminf.   18.00000 (36) obj. 0 iterations 21\n",
      "Cbc0038I Pass  51: suminf.   18.00000 (36) obj. 0 iterations 29\n",
      "Cbc0038I Pass  52: suminf.   18.00000 (36) obj. 0 iterations 28\n",
      "Cbc0038I Pass  53: suminf.   18.00000 (36) obj. 0 iterations 35\n",
      "Cbc0038I Pass  54: suminf.   18.00000 (36) obj. 0 iterations 27\n",
      "Cbc0038I Pass  55: suminf.   18.00000 (36) obj. 0 iterations 21\n",
      "Cbc0038I Pass  56: suminf.   18.00000 (36) obj. 0 iterations 27\n",
      "Cbc0038I Pass  57: suminf.   18.00000 (36) obj. 0 iterations 20\n",
      "Cbc0038I Pass  58: suminf.   18.00000 (36) obj. 0 iterations 21\n",
      "Cbc0038I Pass  59: suminf.   18.00000 (36) obj. 0 iterations 29\n",
      "Cbc0038I Pass  60: suminf.   18.00000 (36) obj. 0 iterations 34\n",
      "Cbc0038I Pass  61: suminf.   18.00000 (36) obj. 0 iterations 26\n",
      "Cbc0038I Pass  62: suminf.   18.00000 (36) obj. 0 iterations 22\n",
      "Cbc0038I Pass  63: suminf.   21.00000 (42) obj. 0 iterations 32\n",
      "Cbc0038I Pass  64: suminf.   21.00000 (42) obj. 0 iterations 28\n",
      "Cbc0038I Pass  65: suminf.   21.00000 (42) obj. 0 iterations 27\n",
      "Cbc0038I Pass  66: suminf.   20.50000 (41) obj. 0 iterations 23\n",
      "Cbc0038I Pass  67: suminf.   20.50000 (41) obj. 0 iterations 25\n",
      "Cbc0038I Pass  68: suminf.   20.50000 (41) obj. 0 iterations 16\n",
      "Cbc0038I Pass  69: suminf.   20.50000 (41) obj. 0 iterations 28\n",
      "Cbc0038I Pass  70: suminf.   18.00000 (36) obj. 0 iterations 42\n",
      "Cbc0038I Pass  71: suminf.   18.00000 (36) obj. 0 iterations 31\n",
      "Cbc0038I Pass  72: suminf.   18.00000 (36) obj. 0 iterations 20\n",
      "Cbc0038I Pass  73: suminf.   18.00000 (36) obj. 0 iterations 16\n",
      "Cbc0038I Pass  74: suminf.   20.50000 (41) obj. 0 iterations 41\n",
      "Cbc0038I Pass  75: suminf.   20.50000 (41) obj. 0 iterations 19\n",
      "Cbc0038I Pass  76: suminf.   20.50000 (41) obj. 0 iterations 7\n",
      "Cbc0038I Pass  77: suminf.   20.50000 (41) obj. 0 iterations 17\n",
      "Cbc0038I Pass  78: suminf.   21.00000 (42) obj. 0 iterations 25\n",
      "Cbc0038I Pass  79: suminf.   21.00000 (42) obj. 0 iterations 16\n",
      "Cbc0038I Pass  80: suminf.   19.00000 (38) obj. 0 iterations 7\n",
      "Cbc0038I Pass  81: suminf.   19.00000 (38) obj. 0 iterations 7\n",
      "Cbc0038I Pass  82: suminf.   19.00000 (38) obj. 0 iterations 10\n",
      "Cbc0038I Pass  83: suminf.   19.00000 (38) obj. 0 iterations 23\n",
      "Cbc0038I Pass  84: suminf.   18.00000 (36) obj. 0 iterations 28\n",
      "Cbc0038I Pass  85: suminf.   18.00000 (36) obj. 0 iterations 20\n",
      "Cbc0038I Pass  86: suminf.   18.00000 (36) obj. 0 iterations 3\n",
      "Cbc0038I Pass  87: suminf.   18.00000 (36) obj. 0 iterations 23\n",
      "Cbc0038I Pass  88: suminf.   19.40000 (73) obj. 0 iterations 36\n",
      "Cbc0038I Pass  89: suminf.   18.00000 (36) obj. 0 iterations 22\n",
      "Cbc0038I Pass  90: suminf.   18.00000 (36) obj. 0 iterations 29\n",
      "Cbc0038I Pass  91: suminf.   18.00000 (36) obj. 0 iterations 30\n",
      "Cbc0038I Pass  92: suminf.   18.00000 (36) obj. 0 iterations 25\n",
      "Cbc0038I Pass  93: suminf.   18.00000 (36) obj. 0 iterations 30\n",
      "Cbc0038I Pass  94: suminf.   18.00000 (36) obj. 0 iterations 29\n",
      "Cbc0038I Pass  95: suminf.   18.00000 (36) obj. 0 iterations 22\n",
      "Cbc0038I Pass  96: suminf.   20.50000 (41) obj. 0 iterations 29\n",
      "Cbc0038I Pass  97: suminf.   20.50000 (41) obj. 0 iterations 19\n",
      "Cbc0038I Pass  98: suminf.   20.50000 (41) obj. 0 iterations 14\n",
      "Cbc0038I Pass  99: suminf.   20.50000 (41) obj. 0 iterations 32\n",
      "Cbc0038I Pass 100: suminf.   25.50000 (51) obj. 0 iterations 27\n",
      "Cbc0038I No solution found this major pass\n",
      "Cbc0038I Before mini branch and bound, 31 integers at bound fixed and 0 continuous\n",
      "Cbc0038I Full problem 173 rows 170 columns, reduced to 143 rows 118 columns - too large\n",
      "Cbc0038I Mini branch and bound did not improve solution (0.26 seconds)\n",
      "Cbc0038I After 0.26 seconds - Feasibility pump exiting - took 0.13 seconds\n",
      "Cbc0031I 8 added rows had average density of 102.625\n",
      "Cbc0013I At root node, 8 cuts changed objective from 0 to 0 in 100 passes\n",
      "Cbc0014I Cut generator 0 (Probing) - 30 row cuts average 2.3 elements, 0 column cuts (0 active)  in 0.167 seconds - new frequency is -100\n",
      "Cbc0014I Cut generator 1 (Gomory) - 589 row cuts average 117.1 elements, 0 column cuts (0 active)  in 0.410 seconds - new frequency is -100\n",
      "Cbc0014I Cut generator 2 (Knapsack) - 0 row cuts average 0.0 elements, 0 column cuts (0 active)  in 0.040 seconds - new frequency is -100\n",
      "Cbc0014I Cut generator 3 (Clique) - 14 row cuts average 3.0 elements, 0 column cuts (0 active)  in 0.066 seconds - new frequency is -100\n",
      "Cbc0014I Cut generator 4 (OddWheel) - 32 row cuts average 5.1 elements, 0 column cuts (0 active)  in 0.412 seconds - new frequency is -100\n",
      "Cbc0014I Cut generator 5 (MixedIntegerRounding2) - 0 row cuts average 0.0 elements, 0 column cuts (0 active) "
     ]
    },
    {
     "data": {
      "text/plain": [
       "array([[1, 4, 5, 3, 2, 7, 6, 9, 8],\n",
       "       [8, 3, 9, 6, 5, 4, 1, 2, 7],\n",
       "       [6, 7, 2, 9, 1, 8, 5, 4, 3],\n",
       "       [4, 9, 6, 1, 8, 5, 3, 7, 2],\n",
       "       [2, 1, 8, 4, 7, 3, 9, 5, 6],\n",
       "       [7, 5, 3, 2, 9, 6, 4, 8, 1],\n",
       "       [3, 6, 7, 5, 4, 2, 8, 1, 9],\n",
       "       [9, 8, 4, 7, 6, 1, 2, 3, 5],\n",
       "       [5, 2, 1, 8, 3, 9, 7, 6, 4]], dtype=int8)"
      ]
     },
     "execution_count": 8,
     "metadata": {},
     "output_type": "execute_result"
    }
   ],
   "source": [
    "goal_grid = solver_IP(grid_example)\n",
    "\n",
    "goal_grid"
   ]
  },
  {
   "cell_type": "code",
   "execution_count": 9,
   "id": "beaa068d",
   "metadata": {},
   "outputs": [
    {
     "data": {
      "text/plain": [
       "True"
      ]
     },
     "execution_count": 9,
     "metadata": {},
     "output_type": "execute_result"
    }
   ],
   "source": [
    "# Checking if the objective grid was reached\n",
    "# Using objective_grid function from sudoku package\n",
    "\n",
    "objective_grid(goal_grid)"
   ]
  }
 ],
 "metadata": {
  "kernelspec": {
   "display_name": ".venv",
   "language": "python",
   "name": ".venv"
  },
  "language_info": {
   "codemirror_mode": {
    "name": "ipython",
    "version": 3
   },
   "file_extension": ".py",
   "mimetype": "text/x-python",
   "name": "python",
   "nbconvert_exporter": "python",
   "pygments_lexer": "ipython3",
   "version": "3.8.10"
  }
 },
 "nbformat": 4,
 "nbformat_minor": 5
}
